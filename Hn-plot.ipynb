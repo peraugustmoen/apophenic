{
 "cells": [
  {
   "cell_type": "markdown",
   "id": "324b3a40",
   "metadata": {},
   "source": [
    "### 1 Import"
   ]
  },
  {
   "cell_type": "code",
   "execution_count": 1,
   "id": "1a5187e9",
   "metadata": {},
   "outputs": [],
   "source": [
    "import numpy as np\n",
    "import pandas as pd\n",
    "import matplotlib.pyplot as plt"
   ]
  },
  {
   "cell_type": "markdown",
   "id": "dca9014c",
   "metadata": {},
   "source": [
    "### 2 Data"
   ]
  },
  {
   "cell_type": "code",
   "execution_count": 1,
   "id": "f6e7833a",
   "metadata": {},
   "outputs": [
    {
     "ename": "NameError",
     "evalue": "name 'pd' is not defined",
     "output_type": "error",
     "traceback": [
      "\u001b[0;31m---------------------------------------------------------------------------\u001b[0m",
      "\u001b[0;31mNameError\u001b[0m                                 Traceback (most recent call last)",
      "Cell \u001b[0;32mIn [1], line 1\u001b[0m\n\u001b[0;32m----> 1\u001b[0m df \u001b[38;5;241m=\u001b[39m \u001b[43mpd\u001b[49m\u001b[38;5;241m.\u001b[39mread_csv(\u001b[38;5;124m'\u001b[39m\u001b[38;5;124m../cow_ssba.csv\u001b[39m\u001b[38;5;124m'\u001b[39m)\n\u001b[1;32m      2\u001b[0m x \u001b[38;5;241m=\u001b[39m df[\u001b[38;5;124m'\u001b[39m\u001b[38;5;124mstart_dates\u001b[39m\u001b[38;5;124m'\u001b[39m]\u001b[38;5;241m.\u001b[39mto_numpy()\u001b[38;5;241m.\u001b[39mastype(\u001b[38;5;124m'\u001b[39m\u001b[38;5;124mfloat\u001b[39m\u001b[38;5;124m'\u001b[39m)\n\u001b[1;32m      3\u001b[0m z \u001b[38;5;241m=\u001b[39m df[\u001b[38;5;124m'\u001b[39m\u001b[38;5;124mbattle_deaths\u001b[39m\u001b[38;5;124m'\u001b[39m]\u001b[38;5;241m.\u001b[39mto_numpy()\u001b[38;5;241m.\u001b[39mastype(\u001b[38;5;124m'\u001b[39m\u001b[38;5;124mfloat\u001b[39m\u001b[38;5;124m'\u001b[39m)\n",
      "\u001b[0;31mNameError\u001b[0m: name 'pd' is not defined"
     ]
    }
   ],
   "source": []
  },
  {
   "cell_type": "markdown",
   "id": "07fc6106",
   "metadata": {},
   "source": [
    "#### Data plot"
   ]
  },
  {
   "cell_type": "code",
   "execution_count": 3,
   "id": "91bf5efe",
   "metadata": {},
   "outputs": [],
   "source": [
    "#plt.scatter(x, y)\n",
    "#plt.xlabel('year')\n",
    "#plt.ylabel('log battle deaths')\n",
    "#plt.show()"
   ]
  },
  {
   "cell_type": "markdown",
   "id": "32d5cb2b",
   "metadata": {},
   "source": [
    "### 3 Compute Hn"
   ]
  },
  {
   "cell_type": "markdown",
   "id": "1fb6ca6e",
   "metadata": {},
   "source": [
    "#### Parameters"
   ]
  },
  {
   "cell_type": "code",
   "execution_count": 4,
   "id": "f954eeb4",
   "metadata": {},
   "outputs": [],
   "source": [
    "q = .75"
   ]
  },
  {
   "cell_type": "code",
   "execution_count": null,
   "id": "bef09449",
   "metadata": {},
   "outputs": [],
   "source": []
  },
  {
   "cell_type": "code",
   "execution_count": null,
   "id": "861c8182",
   "metadata": {},
   "outputs": [],
   "source": []
  },
  {
   "cell_type": "code",
   "execution_count": null,
   "id": "08d0f3d0",
   "metadata": {},
   "outputs": [],
   "source": []
  },
  {
   "cell_type": "code",
   "execution_count": null,
   "id": "4d9cfd16",
   "metadata": {},
   "outputs": [],
   "source": [
    "yy <- log(zz) # ranges from 6.908 to 16.627\n",
    "\n",
    "#   set your q0, e.g. q0 = 0.50 for the median\n",
    "q0 <- 0.75\n",
    "\n",
    "# making wide Hn plot, from say tauval <- seq(5,nn-5),\n",
    "# even though test is taken only for window [cc, dd]:\n",
    "\n",
    "tauval <- seq(5,nn-5)\n",
    "diffval <- 0*tauval  \n",
    "Hnval <- 0*tauval\n",
    "\n",
    "for (j in 1:length(tauval))\n",
    "{\n",
    "  tau <- tauval[j]\n",
    "  #\n",
    "  yyL <- yy[1:tau]\n",
    "  yyR <- yy[(tau+1):nn]\n",
    "  #\n",
    "  muhatL <- quantile(yyL,q0)\n",
    "  muhatR <- quantile(yyR,q0)\n",
    "  #\n",
    "  diffval[j] <- muhatL - muhatR\n",
    "  #\n",
    "  d0L <- density(yyL, from=muhatL, to=muhatL, n=1)$y\n",
    "  d0R <- density(yyR, from=muhatR, to=muhatR, n=1)$y\n",
    "  #\n",
    "  nevner <- sqrt(q0*(1-q0)) * sqrt((1/tau)*(1/d0L^2) + (1/(nn-tau))*(1/d0R^2))\n",
    "  Hnval[j] <- diffval[j]/nevner\n",
    "}\n",
    "\n",
    "par(bty=\"l\")\n",
    "par(cex.lab=1.4142)\n",
    "\n",
    "matplot(xx[tauval],Hnval,\n",
    "        type=\"l\",xlab=\"year\",ylab=\"Hn plot\",lwd=2.5)\n",
    "\n",
    "# can also look at the pointwise p-values:\n",
    "\n",
    "par(bty=\"l\")\n",
    "par(cex.lab=1.4142)\n",
    "matplot(xx[tauval],1-pnorm(Hnval),\n",
    "        type=\"l\",xlab=\"year\",\n",
    "        ylab=\"pointwise p-values\",\n",
    "        ylim=c(0,1),lwd=2.5)\n",
    "matlines(xx[tauval],0.05+0*xx[tauval],type=\"l\",lty=2,col=4,lwd=2.5)   \n",
    "matlines(xx[tauval],0.00+0*xx[tauval],type=\"l\",lty=2,col=1,lwd=1.0)"
   ]
  },
  {
   "cell_type": "code",
   "execution_count": null,
   "id": "55d33f8c",
   "metadata": {},
   "outputs": [],
   "source": []
  },
  {
   "cell_type": "code",
   "execution_count": null,
   "id": "da758e95",
   "metadata": {},
   "outputs": [],
   "source": [
    "from rpy2 import robjects\n",
    "from rpy2.robjects.packages import importr\n",
    "from rpy2.robjects import vectors\n",
    "import numpy as np\n",
    "\n",
    "stats = importr(\"stats\")\n",
    "\n",
    "column = vectors.IntVector([63, 45, 47, 28, 59, 28, 59])\n",
    "\n",
    "output = stats.density(column, adjust=1)\n",
    "\n",
    "x = np.array(output[0])\n",
    "y = np.array(output[1])"
   ]
  },
  {
   "cell_type": "code",
   "execution_count": 1,
   "id": "76af27a3",
   "metadata": {},
   "outputs": [],
   "source": [
    "from rpy2.robjects.packages import importr"
   ]
  },
  {
   "cell_type": "code",
   "execution_count": null,
   "id": "53706165",
   "metadata": {},
   "outputs": [],
   "source": []
  },
  {
   "cell_type": "code",
   "execution_count": null,
   "id": "a8197db1",
   "metadata": {},
   "outputs": [],
   "source": []
  },
  {
   "cell_type": "code",
   "execution_count": null,
   "id": "e4424585",
   "metadata": {},
   "outputs": [],
   "source": []
  }
 ],
 "metadata": {
  "kernelspec": {
   "display_name": "Python 3 (ipykernel)",
   "language": "python",
   "name": "python3"
  },
  "language_info": {
   "codemirror_mode": {
    "name": "ipython",
    "version": 3
   },
   "file_extension": ".py",
   "mimetype": "text/x-python",
   "name": "python",
   "nbconvert_exporter": "python",
   "pygments_lexer": "ipython3",
   "version": "3.10.4"
  }
 },
 "nbformat": 4,
 "nbformat_minor": 5
}
