{
 "cells": [
  {
   "cell_type": "markdown",
   "id": "45b58962",
   "metadata": {},
   "source": [
    "#### Import"
   ]
  },
  {
   "cell_type": "code",
   "execution_count": 5,
   "id": "91dac139",
   "metadata": {},
   "outputs": [],
   "source": [
    "import numpy as np\n",
    "from scipy.stats import mielke, norm, gamma\n",
    "import matplotlib.pyplot as plt\n",
    "import pandas as pd\n",
    "import numba as nb\n",
    "from scipy.stats import gaussian_kde"
   ]
  },
  {
   "cell_type": "markdown",
   "id": "01477697",
   "metadata": {},
   "source": [
    "#### Functions"
   ]
  },
  {
   "cell_type": "code",
   "execution_count": 6,
   "id": "78a34c51-9016-4990-8102-f0f86a0e2108",
   "metadata": {},
   "outputs": [],
   "source": [
    "@nb.njit(nb.float64(nb.float64))\n",
    "def get_phi(x):\n",
    "    return np.exp(-x**2 / 2) / np.sqrt(2*np.pi)\n",
    "\n",
    "\n",
    "@nb.njit(nb.float64(nb.float64[:]))\n",
    "def silverman_bandwidth(data):\n",
    "    if len(data) < 2:\n",
    "        raise ValueError(\"Need at least 2 data points\")\n",
    "    \n",
    "    std = np.std(data)\n",
    "    IQR = np.quantile(data, .75) - np.quantile(data, .25)\n",
    "    A = min(std, IQR / 1.34)\n",
    "    return 0.9 * A * len(data)**(-0.2)\n",
    "\n",
    "\n",
    "@nb.njit(nb.float64(nb.float64[:], nb.float64))\n",
    "def custom_kde(data, point):\n",
    "    n = len(data)\n",
    "    h = silverman_bandwidth(data)\n",
    "    result = 0\n",
    "    for i in range(n):\n",
    "        result += get_phi((point - data[i]) / h) / (n * h)\n",
    "    return result"
   ]
  },
  {
   "cell_type": "code",
   "execution_count": 19,
   "id": "d0dcfe96",
   "metadata": {},
   "outputs": [],
   "source": [
    "@nb.njit(nb.float64(nb.float64[:]))\n",
    "def silverman_bandwidth(data):\n",
    "    if len(data) < 2:\n",
    "        raise ValueError(\"Need at least 2 data points\")\n",
    "    \n",
    "    hi = np.std(data)\n",
    "    lo = min(hi, np.percentile(data, 75) - np.percentile(data, 25) / 1.34)\n",
    "    \n",
    "    if lo == 0:\n",
    "        lo = hi\n",
    "    elif lo == 0:\n",
    "        lo = abs(data[0])\n",
    "    elif lo == 0:\n",
    "        lo = 1\n",
    "    \n",
    "    return 0.9 * lo * len(data)**(-0.2) / hi\n",
    "\n",
    "@nb.njit(nb.float64(nb.int64, nb.float64[:],nb.float64))\n",
    "def H(tau, y, q):\n",
    "    counting_tau = tau + 1\n",
    "    yL = y[:tau]\n",
    "    yR = y[tau:]\n",
    "    \n",
    "    muL = np.quantile(yL, q)\n",
    "    muR = np.quantile(yR, q)\n",
    "    \n",
    "    # Calculate Silverman's bandwidth\n",
    "    #bwL = silverman_bandwidth(yL)\n",
    "    #bwR = silverman_bandwidth(yR)\n",
    "    \n",
    "\n",
    "    # Create KDE using Gaussian kernel and Silverman's bandwidth\n",
    "    #kde = gaussian_kde(data, bw_method=bandwidth)\n",
    "    \n",
    "    kappaLsq = q * (1 - q) / (custom_kde(yL,muL)**2)\n",
    "    kappaRsq = q * (1 - q) / (custom_kde(yR,muR)**2)\n",
    "    \n",
    "    return (muL - muR) / (kappaLsq / counting_tau + kappaRsq / (n - counting_tau)) ** (1 / 2)\n",
    "\n"
   ]
  },
  {
   "cell_type": "code",
   "execution_count": 47,
   "id": "e60bc899-8468-43ba-9d57-dc312d3b7995",
   "metadata": {},
   "outputs": [],
   "source": [
    "@nb.njit(nb.float64[:,:](nb.float64[:], nb.int64, nb.int64,nb.int64, nb.float64, nb.int64,nb.int64, nb.int64))\n",
    "def get_permuted_sample_Hn(z, n, start, stop, q, sim, normalize,seed):\n",
    "    np.random.seed(seed)\n",
    "    sample = np.zeros((sim, stop-start ))\n",
    "    \n",
    "    for s in range(sim):\n",
    "        indices = np.random.permutation(n)\n",
    "        #taudiff = np.zeros(n - 2 * cutoff)\n",
    "        counter = 0\n",
    "        for tau in range(start, stop):\n",
    "            res = H(tau, z[indices],q)\n",
    "            if(normalize):\n",
    "                res = res * np.sqrt(n / tau * (n - tau))\n",
    "\n",
    "            sample[s, counter] = res\n",
    "            #sample[s, counter] = np.abs(alphaL - alphaR) \n",
    "            counter+=1\n",
    "            \n",
    "    \n",
    "    return sample"
   ]
  },
  {
   "cell_type": "markdown",
   "id": "805bf821",
   "metadata": {},
   "source": [
    "#### Data"
   ]
  },
  {
   "cell_type": "code",
   "execution_count": 48,
   "id": "a89bf786",
   "metadata": {},
   "outputs": [],
   "source": [
    "df = pd.read_csv('../cow_ssba.csv')\n",
    "x = df['start_dates'].to_numpy().astype('float')\n",
    "z = df['battle_deaths'].to_numpy().astype('float')\n",
    "#x = np.append(x, 2024)\n",
    "#z = np.append(z, 25000_000)\n",
    "\n",
    "y = np.log(z)\n",
    "n = len(x)"
   ]
  },
  {
   "cell_type": "markdown",
   "id": "4faffa75",
   "metadata": {},
   "source": [
    "#### Plot"
   ]
  },
  {
   "cell_type": "code",
   "execution_count": 49,
   "id": "07cd5f04",
   "metadata": {},
   "outputs": [
    {
     "data": {
      "image/png": "[encoded data removed]",
      "text/plain": [
       "<Figure size 640x480 with 1 Axes>"
      ]
     },
     "metadata": {},
     "output_type": "display_data"
    }
   ],
   "source": [
    "plt.scatter(x, np.log(z))\n",
    "plt.xlabel('year')\n",
    "plt.ylabel('log number of dead')\n",
    "plt.show()"
   ]
  },
  {
   "cell_type": "code",
   "execution_count": 50,
   "id": "212cb8f6",
   "metadata": {},
   "outputs": [
    {
     "name": "stderr",
     "output_type": "stream",
     "text": [
      "/opt/homebrew/Caskroom/miniforge/base/envs/fastpermenv/lib/python3.11/site-packages/scipy/stats/_continuous_distns.py:6370: RuntimeWarning: invalid value encountered in multiply\n",
      "  return np.log(k) + np.log(x)*(k - 1) - np.log1p(x**s)*(1 + k/s)\n"
     ]
    }
   ],
   "source": [
    "khat, shat, loc, scalehat = mielke.fit(z, floc=1001)"
   ]
  },
  {
   "cell_type": "code",
   "execution_count": 51,
   "id": "c7e89bbc",
   "metadata": {},
   "outputs": [],
   "source": [
    "muhat_lognorm, sigmahat_lognorm = norm.fit(y)"
   ]
  },
  {
   "cell_type": "code",
   "execution_count": 52,
   "id": "47f78a58",
   "metadata": {},
   "outputs": [],
   "source": [
    "muhat = scalehat\n",
    "thetahat = shat\n",
    "alphahat = khat / shat"
   ]
  },
  {
   "cell_type": "markdown",
   "id": "c7a52d75-8532-4f42-9091-8482f5ac3438",
   "metadata": {},
   "source": [
    "### Simulate realizations of H_n:"
   ]
  },
  {
   "cell_type": "code",
   "execution_count": 62,
   "id": "1a17c98c-376b-4c6d-b5e1-fd453e50bf66",
   "metadata": {},
   "outputs": [
    {
     "name": "stdout",
     "output_type": "stream",
     "text": [
      "1911.74722222222\n",
      "1979.13055555556\n",
      "20000.0\n",
      "21000.0\n"
     ]
    }
   ],
   "source": [
    "sim = 5000\n",
    "seed = 1996\n",
    "start = 35\n",
    "stop = 80\n",
    "print(x[start] ) #\n",
    "print(x[stop]) # 1968\n",
    "print(z[start])\n",
    "print(z[stop])\n",
    "q = 0.75"
   ]
  },
  {
   "cell_type": "code",
   "execution_count": 63,
   "id": "45d5bd03-64bc-4daf-8bf4-96f1b41434ea",
   "metadata": {},
   "outputs": [
    {
     "data": {
      "text/plain": [
       "[<matplotlib.lines.Line2D at 0x148b45890>]"
      ]
     },
     "execution_count": 63,
     "metadata": {},
     "output_type": "execute_result"
    },
    {
     "data": {
      "image/png": "[encoded data removed]",
      "text/plain": [
       "<Figure size 640x480 with 1 Axes>"
      ]
     },
     "metadata": {},
     "output_type": "display_data"
    }
   ],
   "source": [
    "sample = get_permuted_sample_Hn(z, n, start, stop, q, sim, normalize=0,seed=seed)\n",
    "maxes = sample.max(axis=0)\n",
    "maxes\n",
    "\n",
    "plt.plot(maxes)"
   ]
  },
  {
   "cell_type": "markdown",
   "id": "d867b912-1d21-4cdb-aa2f-cb34ad9f4269",
   "metadata": {},
   "source": [
    "### Two-sided test:"
   ]
  },
  {
   "cell_type": "code",
   "execution_count": 64,
   "id": "fea8370e-3311-475a-bffe-90b0838936c1",
   "metadata": {},
   "outputs": [
    {
     "name": "stdout",
     "output_type": "stream",
     "text": [
      "2.04212789727777\n"
     ]
    },
    {
     "data": {
      "image/png": "[encoded data removed]",
      "text/plain": [
       "<Figure size 640x480 with 1 Axes>"
      ]
     },
     "metadata": {},
     "output_type": "display_data"
    }
   ],
   "source": [
    "quantiles = np.zeros(stop - start)\n",
    "for i in range(stop-start):\n",
    "    quantiles[i] = np.quantile(abs(sample[:,i]),0.95)\n",
    "\n",
    "plt.plot(quantiles)\n",
    "\n",
    "abs_sample = np.abs(sample)\n",
    "critical_value_overall_twosided = np.quantile(abs_sample.max(axis=1),0.95)\n",
    "print(critical_value_overall_twosided)"
   ]
  },
  {
   "cell_type": "code",
   "execution_count": 65,
   "id": "9679869f-d7d5-4444-b20d-0cc7450894d0",
   "metadata": {},
   "outputs": [],
   "source": [
    "hn_obs = np.zeros(stop-start)\n",
    "tauspace = np.arange(start,stop)\n",
    "for i in range(stop-start):\n",
    "    hn_obs[i] = H(tauspace[i],z,q)"
   ]
  },
  {
   "cell_type": "code",
   "execution_count": 66,
   "id": "b5d8ff41-5706-4577-a478-3c207d9e3268",
   "metadata": {},
   "outputs": [
    {
     "data": {
      "text/plain": [
       "array([-1.03000385, -1.0106378 , -0.87798551, -0.40147557,  0.4721519 ,\n",
       "        0.20146532, -0.26499332,  0.63656951,  0.46521128,  0.95188815,\n",
       "        1.14059769,  1.10174013,  1.04387361,  1.2714944 ,  1.48305455,\n",
       "        1.35994877,  1.54481207,  1.72892686,  1.66789242,  1.73554472,\n",
       "        1.7992562 ,  1.86906062,  1.82768861,  1.76726663,  1.73400944,\n",
       "        1.79918688,  1.75736654,  1.70306568,  1.67464455,  1.64159627,\n",
       "        1.60046377,  1.56389743,  1.62411849,  1.59294384,  1.61026915,\n",
       "        1.67785666,  1.60703638,  1.53402644,  1.45133723,  1.37035866,\n",
       "        1.47877685,  1.39487877,  1.30371873,  1.14280186,  0.9458862 ])"
      ]
     },
     "execution_count": 66,
     "metadata": {},
     "output_type": "execute_result"
    }
   ],
   "source": [
    "hn_obs"
   ]
  },
  {
   "cell_type": "code",
   "execution_count": 71,
   "id": "2ab2fdf2-37dc-4efe-b334-a20246379286",
   "metadata": {},
   "outputs": [
    {
     "data": {
      "text/plain": [
       "1.8690606159034593"
      ]
     },
     "execution_count": 71,
     "metadata": {},
     "output_type": "execute_result"
    }
   ],
   "source": [
    "max(abs(hn_obs))"
   ]
  },
  {
   "cell_type": "code",
   "execution_count": 72,
   "id": "92794493-669e-409b-9008-cda71e814730",
   "metadata": {},
   "outputs": [
    {
     "data": {
      "text/plain": [
       "<matplotlib.lines.Line2D at 0x148bdf750>"
      ]
     },
     "execution_count": 72,
     "metadata": {},
     "output_type": "execute_result"
    },
    {
     "data": {
      "image/png": "[encoded data removed]",
      "text/plain": [
       "<Figure size 640x480 with 1 Axes>"
      ]
     },
     "metadata": {},
     "output_type": "display_data"
    }
   ],
   "source": [
    "plt.plot(x[tauspace], quantiles)\n",
    "plt.plot(x[tauspace], abs(hn_obs))\n",
    "plt.axhline(y = critical_value_overall_twosided, color = 'r', linestyle = '-') "
   ]
  },
  {
   "cell_type": "code",
   "execution_count": 70,
   "id": "67048450-06ed-4f1a-b35d-5811db6f14e7",
   "metadata": {},
   "outputs": [
    {
     "name": "stdout",
     "output_type": "stream",
     "text": [
      "0.1352\n"
     ]
    }
   ],
   "source": [
    "p_val= np.sum(abs_sample.max(axis=1) > np.max(abs(hn_obs))) / sim\n",
    "print(p_val)"
   ]
  },
  {
   "cell_type": "markdown",
   "id": "066e7642-4ca8-4567-892b-5d790cac353d",
   "metadata": {},
   "source": [
    "Here we have a two-sided test for a change in the q-quantile of the distribution of the data, where the alternative is a composite alternative with changepoint positions from start to stop. The p-value for a change using a permutation test is 0.1352, which is insiginificant. "
   ]
  },
  {
   "cell_type": "markdown",
   "id": "0396a724-ea3e-4721-911c-ab869ef54854",
   "metadata": {},
   "source": [
    "## OLD:"
   ]
  },
  {
   "cell_type": "markdown",
   "id": "324f858d",
   "metadata": {},
   "source": [
    "#### Comput Hn and plot"
   ]
  },
  {
   "cell_type": "code",
   "execution_count": 9,
   "id": "771ec2f5",
   "metadata": {},
   "outputs": [],
   "source": [
    "def H(tau, y, q):\n",
    "    counting_tau = tau + 1\n",
    "    yL = y[:tau]\n",
    "    yR = y[tau:]\n",
    "    \n",
    "    muL = np.quantile(yL, q)\n",
    "    muR = np.quantile(yR, q)\n",
    "    \n",
    "    # Calculate Silverman's bandwidth\n",
    "    #bwL = silverman_bandwidth(yL)\n",
    "    #bwR = silverman_bandwidth(yR)\n",
    "    \n",
    "\n",
    "    # Create KDE using Gaussian kernel and Silverman's bandwidth\n",
    "    #kde = gaussian_kde(data, bw_method=bandwidth)\n",
    "    \n",
    "    kappaLsq = q * (1 - q) / (gaussian_kde(yL)(muL)**2)\n",
    "    kappaRsq = q * (1 - q) / (gaussian_kde(yR)(muR)**2)\n",
    "    \n",
    "    return (muL - muR) / (kappaLsq / counting_tau + kappaRsq / (n - counting_tau)) ** (1 / 2)"
   ]
  },
  {
   "cell_type": "markdown",
   "id": "5f1d493e",
   "metadata": {},
   "source": [
    "#### Simulate lots of Hn plots"
   ]
  },
  {
   "cell_type": "code",
   "execution_count": 20,
   "id": "3eb48895",
   "metadata": {},
   "outputs": [],
   "source": [
    "signif50 = 2.7\n",
    "signif75 = 2.7\n",
    "S = 1_000\n",
    "\n",
    "sample50 = np.zeros(S)\n",
    "sample75 = np.zeros(S)"
   ]
  },
  {
   "cell_type": "code",
   "execution_count": 21,
   "id": "df76616b",
   "metadata": {},
   "outputs": [
    {
     "name": "stdout",
     "output_type": "stream",
     "text": [
      "0\n"
     ]
    }
   ],
   "source": [
    "for s in range(S):\n",
    "    if s % 1000 == 0:\n",
    "        print(s)\n",
    "    #z = mielke(loc=1001, scale=scalehat, k=khat, s=shat).rvs(n)\n",
    "    #y = np.log(z)\n",
    "    \n",
    "    y = np.random.randn(n)\n",
    "    \n",
    "    Hs50 = np.zeros(n)\n",
    "    Hs75 = np.zeros(n)\n",
    "\n",
    "    for i in range(5, n - 5):\n",
    "        tau = i\n",
    "        Hs50[i] = H(tau, y, .5)\n",
    "        Hs75[i] = H(tau, y, .75)\n",
    "        \n",
    "    sample50[s] = np.max(Hs50)\n",
    "    sample75[s] = np.max(Hs75)"
   ]
  },
  {
   "cell_type": "code",
   "execution_count": 22,
   "id": "77c60d54",
   "metadata": {},
   "outputs": [
    {
     "name": "stdout",
     "output_type": "stream",
     "text": [
      "2.7541580587136556\n",
      "3.0354153332827774\n"
     ]
    }
   ],
   "source": [
    "sim_threshold50 = np.quantile(sample50, .95)\n",
    "sim_threshold75 = np.quantile(sample75, .95)\n",
    "\n",
    "print(sim_threshold50)\n",
    "print(sim_threshold75)"
   ]
  },
  {
   "cell_type": "code",
   "execution_count": 23,
   "id": "0ae5308d",
   "metadata": {},
   "outputs": [
    {
     "data": {
      "text/plain": [
       "0.054"
      ]
     },
     "execution_count": 23,
     "metadata": {},
     "output_type": "execute_result"
    }
   ],
   "source": [
    "np.sum(sample50 > signif75) / S"
   ]
  },
  {
   "cell_type": "code",
   "execution_count": 24,
   "id": "989b010a",
   "metadata": {},
   "outputs": [
    {
     "data": {
      "text/plain": [
       "0.088"
      ]
     },
     "execution_count": 24,
     "metadata": {},
     "output_type": "execute_result"
    }
   ],
   "source": [
    "np.sum(sample75 > signif75) / S"
   ]
  },
  {
   "cell_type": "code",
   "execution_count": 25,
   "id": "177da881",
   "metadata": {},
   "outputs": [
    {
     "data": {
      "text/plain": [
       "0.116"
      ]
     },
     "execution_count": 25,
     "metadata": {},
     "output_type": "execute_result"
    }
   ],
   "source": [
    "np.sum(np.logical_or(sample50 > signif75, sample75 > signif75)) / S"
   ]
  },
  {
   "cell_type": "code",
   "execution_count": 15,
   "id": "10b39043",
   "metadata": {},
   "outputs": [
    {
     "ename": "NameError",
     "evalue": "name 'fjijf' is not defined",
     "output_type": "error",
     "traceback": [
      "\u001b[0;31m---------------------------------------------------------------------------\u001b[0m",
      "\u001b[0;31mNameError\u001b[0m                                 Traceback (most recent call last)",
      "Cell \u001b[0;32mIn [15], line 1\u001b[0m\n\u001b[0;32m----> 1\u001b[0m \u001b[43mfjijf\u001b[49m\n",
      "\u001b[0;31mNameError\u001b[0m: name 'fjijf' is not defined"
     ]
    }
   ],
   "source": [
    "fjijf"
   ]
  },
  {
   "cell_type": "code",
   "execution_count": 17,
   "id": "2e272598",
   "metadata": {},
   "outputs": [
    {
     "data": {
      "text/plain": [
       "0.5325"
      ]
     },
     "execution_count": 17,
     "metadata": {},
     "output_type": "execute_result"
    }
   ],
   "source": [
    "counter50 / S"
   ]
  },
  {
   "cell_type": "code",
   "execution_count": 18,
   "id": "8589e4ea",
   "metadata": {},
   "outputs": [
    {
     "data": {
      "text/plain": [
       "0.132"
      ]
     },
     "execution_count": 18,
     "metadata": {},
     "output_type": "execute_result"
    }
   ],
   "source": [
    "counter75 / S"
   ]
  },
  {
   "cell_type": "code",
   "execution_count": 19,
   "id": "bae66dad",
   "metadata": {},
   "outputs": [
    {
     "data": {
      "text/plain": [
       "0.543"
      ]
     },
     "execution_count": 19,
     "metadata": {},
     "output_type": "execute_result"
    }
   ],
   "source": [
    "counter_either / S"
   ]
  },
  {
   "cell_type": "code",
   "execution_count": 20,
   "id": "d5e08c21",
   "metadata": {},
   "outputs": [
    {
     "ename": "NameError",
     "evalue": "name 'fjijf' is not defined",
     "output_type": "error",
     "traceback": [
      "\u001b[0;31m---------------------------------------------------------------------------\u001b[0m",
      "\u001b[0;31mNameError\u001b[0m                                 Traceback (most recent call last)",
      "Cell \u001b[0;32mIn [20], line 1\u001b[0m\n\u001b[0;32m----> 1\u001b[0m \u001b[43mfjijf\u001b[49m\n",
      "\u001b[0;31mNameError\u001b[0m: name 'fjijf' is not defined"
     ]
    }
   ],
   "source": [
    "fjijf"
   ]
  },
  {
   "cell_type": "code",
   "execution_count": null,
   "id": "da0146b7",
   "metadata": {},
   "outputs": [],
   "source": []
  },
  {
   "cell_type": "code",
   "execution_count": null,
   "id": "a997bf07",
   "metadata": {},
   "outputs": [],
   "source": [
    "rpy2"
   ]
  },
  {
   "cell_type": "code",
   "execution_count": null,
   "id": "cc2552f2",
   "metadata": {},
   "outputs": [],
   "source": []
  },
  {
   "cell_type": "code",
   "execution_count": null,
   "id": "bbbf10a1",
   "metadata": {},
   "outputs": [],
   "source": [
    "n = len(x)\n",
    "n"
   ]
  },
  {
   "cell_type": "code",
   "execution_count": null,
   "id": "b46d4b92",
   "metadata": {},
   "outputs": [],
   "source": [
    "taus = np.arange(n)\n",
    "Hs50 = np.zeros(n)\n",
    "Hs75 = np.zeros(n)\n",
    "\n",
    "for i in range(5, n - 3):\n",
    "    tau = taus[i]\n",
    "    Hs50[i] = H(tau, y, .5)\n",
    "    Hs75[i] = H(tau, y, .75)"
   ]
  },
  {
   "cell_type": "code",
   "execution_count": null,
   "id": "7a7a9f6e",
   "metadata": {},
   "outputs": [],
   "source": [
    "plt.plot(x[5:-4], Hs50[5:-4])\n",
    "plt.plot(x[5:-4], Hs75[5:-4])\n",
    "plt.show()"
   ]
  },
  {
   "cell_type": "code",
   "execution_count": null,
   "id": "e010c5fc",
   "metadata": {},
   "outputs": [],
   "source": [
    "a = np.arange(100)\n",
    "a"
   ]
  },
  {
   "cell_type": "code",
   "execution_count": null,
   "id": "f6e852e5",
   "metadata": {},
   "outputs": [],
   "source": [
    "a[5:-5]"
   ]
  },
  {
   "cell_type": "code",
   "execution_count": null,
   "id": "7ce9b2c1",
   "metadata": {},
   "outputs": [],
   "source": [
    "a[:3]"
   ]
  },
  {
   "cell_type": "code",
   "execution_count": null,
   "id": "80607279",
   "metadata": {},
   "outputs": [],
   "source": [
    "a[3:]"
   ]
  },
  {
   "cell_type": "code",
   "execution_count": null,
   "id": "cc0505dc",
   "metadata": {},
   "outputs": [],
   "source": []
  },
  {
   "cell_type": "code",
   "execution_count": null,
   "id": "b7b2f0e9",
   "metadata": {},
   "outputs": [],
   "source": []
  },
  {
   "cell_type": "code",
   "execution_count": null,
   "id": "aa2c424a",
   "metadata": {},
   "outputs": [],
   "source": [
    "np.quantile(y, .75)"
   ]
  },
  {
   "cell_type": "code",
   "execution_count": null,
   "id": "072c0b53",
   "metadata": {},
   "outputs": [],
   "source": [
    "import numpy as np\n",
    "from scipy.stats import gaussian_kde\n",
    "\n",
    "def silverman_bandwidth(x):\n",
    "    if len(x) < 2:\n",
    "        raise ValueError(\"Need at least 2 data points\")\n",
    "    \n",
    "    hi = np.std(x)\n",
    "    lo = min(hi, np.percentile(x, 75) - np.percentile(x, 25) / 1.34)\n",
    "    \n",
    "    if lo == 0:\n",
    "        lo = hi\n",
    "    elif lo == 0:\n",
    "        lo = abs(x[0])\n",
    "    elif lo == 0:\n",
    "        lo = 1\n",
    "    \n",
    "    return 0.9 * lo * len(x)**(-0.2) / hi\n",
    "\n",
    "# Example data\n",
    "filt = np.random.random(5) < .3\n",
    "data = np.random.normal(loc=0, scale=1, size=5) * filt + np.random.gamma(shape=2, size=5) * (1 - filt)\n",
    "\n",
    "# Calculate Silverman's bandwidth\n",
    "bandwidth = silverman_bandwidth(data)\n",
    "\n",
    "# Create KDE using Gaussian kernel and Silverman's bandwidth\n",
    "kde = gaussian_kde(data, bw_method=bandwidth)\n",
    "\n",
    "# Evaluate KDE at specific points\n",
    "x_values = np.linspace(-3, 3, 100)\n",
    "kde_values = kde.evaluate(x_values)\n",
    "\n",
    "# Plot the KDE\n",
    "import matplotlib.pyplot as plt\n",
    "plt.plot(x_values, kde_values)\n",
    "plt.plot(x_values, gaussian_kde(data)(x_values))\n",
    "plt.show()"
   ]
  },
  {
   "cell_type": "code",
   "execution_count": null,
   "id": "72651c57",
   "metadata": {},
   "outputs": [],
   "source": [
    "np.random.gamma()"
   ]
  }
 ],
 "metadata": {
  "kernelspec": {
   "display_name": "Python 3 (ipykernel)",
   "language": "python",
   "name": "python3"
  },
  "language_info": {
   "codemirror_mode": {
    "name": "ipython",
    "version": 3
   },
   "file_extension": ".py",
   "mimetype": "text/x-python",
   "name": "python",
   "nbconvert_exporter": "python",
   "pygments_lexer": "ipython3",
   "version": "3.11.4"
  }
 },
 "nbformat": 4,
 "nbformat_minor": 5
}
