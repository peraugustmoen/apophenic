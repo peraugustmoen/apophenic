{
 "cells": [
  {
   "cell_type": "markdown",
   "id": "d200989b",
   "metadata": {},
   "source": [
    "### Normal means"
   ]
  },
  {
   "cell_type": "markdown",
   "id": "96869c3b",
   "metadata": {},
   "source": [
    "In this notebook, we simulate i.i.d. data of size n=95 from the standard normal distribution and see how often the statistical test of Cunen, Hjort and Nygård says there is a change in the mean."
   ]
  },
  {
   "cell_type": "markdown",
   "id": "622e56e6",
   "metadata": {},
   "source": [
    "#### Import"
   ]
  },
  {
   "cell_type": "code",
   "execution_count": 1,
   "id": "b0cff7cd",
   "metadata": {},
   "outputs": [],
   "source": [
    "import numpy as np\n",
    "import numba as nb\n",
    "import matplotlib.pyplot as plt"
   ]
  },
  {
   "cell_type": "code",
   "execution_count": 2,
   "id": "f3a7337f",
   "metadata": {},
   "outputs": [],
   "source": [
    "@nb.njit(nb.float64[:](nb.int64,\n",
    "                       nb.int64,\n",
    "                       nb.float64,\n",
    "                       nb.float64))\n",
    "def get_95quantile_maxHn(sim, M, lower, upper):\n",
    "    sample = np.zeros(sim)\n",
    "    space = np.linspace(0, 1, M)\n",
    "    for s in range(sim):\n",
    "        W = np.cumsum(np.random.randn(M)) / np.sqrt(M)\n",
    "        B = W - space * W[-1]\n",
    "        H = B / np.sqrt(space * (1 - space))\n",
    "        restrH = H[((space >= lower) * (space <= upper)).astype('bool')]\n",
    "        sample[s] = np.max(restrH)\n",
    "    return sample\n",
    "\n",
    "\n",
    "def normal_means_maxHn(sim, n, cutoff):\n",
    "    results = np.zeros(sim)\n",
    "    \n",
    "    for s in range(sim):\n",
    "        y = np.random.randn(n)\n",
    "        maxHn = -np.inf\n",
    "        \n",
    "        for tau in range(cutoff, n - cutoff):\n",
    "            yL = y[:tau]\n",
    "            yR = y[tau:]\n",
    "            \n",
    "            muL = np.mean(yL)\n",
    "            muR = np.mean(yR)\n",
    "            \n",
    "            \n",
    "    "
   ]
  },
  {
   "cell_type": "code",
   "execution_count": 3,
   "id": "3d9d5648",
   "metadata": {},
   "outputs": [],
   "source": [
    "c, d = 35, 85\n",
    "n = 95\n",
    "sim = 10**5\n",
    "M = 10**4\n",
    "c0, d0 = c / n, d / n"
   ]
  },
  {
   "cell_type": "code",
   "execution_count": 4,
   "id": "ac8d3ea2",
   "metadata": {},
   "outputs": [],
   "source": [
    "sample = get_95quantile_maxHn(sim, M, c0, d0)"
   ]
  },
  {
   "cell_type": "code",
   "execution_count": 5,
   "id": "86868dbf",
   "metadata": {},
   "outputs": [
    {
     "data": {
      "text/plain": [
       "2.595270526783847"
      ]
     },
     "execution_count": 5,
     "metadata": {},
     "output_type": "execute_result"
    }
   ],
   "source": [
    "np.quantile(sample, .95)"
   ]
  },
  {
   "cell_type": "code",
   "execution_count": null,
   "id": "703efc00",
   "metadata": {},
   "outputs": [],
   "source": []
  },
  {
   "cell_type": "code",
   "execution_count": null,
   "id": "447ca66d",
   "metadata": {},
   "outputs": [],
   "source": []
  }
 ],
 "metadata": {
  "kernelspec": {
   "display_name": "Python 3 (ipykernel)",
   "language": "python",
   "name": "python3"
  },
  "language_info": {
   "codemirror_mode": {
    "name": "ipython",
    "version": 3
   },
   "file_extension": ".py",
   "mimetype": "text/x-python",
   "name": "python",
   "nbconvert_exporter": "python",
   "pygments_lexer": "ipython3",
   "version": "3.10.2"
  }
 },
 "nbformat": 4,
 "nbformat_minor": 5
}
