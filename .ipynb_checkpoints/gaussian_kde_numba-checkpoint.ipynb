{
 "cells": [
  {
   "cell_type": "markdown",
   "id": "ee3a369a",
   "metadata": {},
   "source": [
    "#### Import"
   ]
  },
  {
   "cell_type": "code",
   "execution_count": 1,
   "id": "bebc07f6",
   "metadata": {},
   "outputs": [],
   "source": [
    "import numpy as np\n",
    "import numba as nb\n",
    "from scipy.stats import gaussian_kde"
   ]
  },
  {
   "cell_type": "markdown",
   "id": "18a3c32b",
   "metadata": {},
   "source": [
    "#### Functions"
   ]
  },
  {
   "cell_type": "code",
   "execution_count": 31,
   "id": "4be126a5",
   "metadata": {},
   "outputs": [],
   "source": [
    "@nb.njit(nb.float64(nb.float64))\n",
    "def get_phi(x):\n",
    "    return np.exp(-x**2 / 2) / np.sqrt(2*np.pi)\n",
    "\n",
    "\n",
    "@nb.njit(nb.float64(nb.float64[:]))\n",
    "def silverman_bandwidth(data):\n",
    "    if len(data) < 2:\n",
    "        raise ValueError(\"Need at least 2 data points\")\n",
    "    \n",
    "    std = np.std(data)\n",
    "    IQR = np.quantile(data, .75) - np.quantile(data, .25)\n",
    "    A = min(std, IQR / 1.34)\n",
    "    return 0.9 * A * len(data)**(-0.2) / std\n",
    "\n",
    "\n",
    "@nb.njit(nb.float64(nb.float64[:], nb.float64))\n",
    "def gauss_kde(data, point):\n",
    "    n = len(data)\n",
    "    h = silverman_bandwidth(data)\n",
    "    result = 0\n",
    "    for i in range(n):\n",
    "        result += get_phi((point - data[i]) / h) / (n * h)\n",
    "    return result"
   ]
  },
  {
   "cell_type": "markdown",
   "id": "56935963",
   "metadata": {},
   "source": [
    "#### Test"
   ]
  },
  {
   "cell_type": "code",
   "execution_count": 32,
   "id": "ae927117",
   "metadata": {},
   "outputs": [],
   "source": [
    "n = 10\n",
    "np.random.seed(1000002)\n",
    "data = np.random.randn(n)\n",
    "point = .7"
   ]
  },
  {
   "cell_type": "code",
   "execution_count": 33,
   "id": "d1982503",
   "metadata": {},
   "outputs": [
    {
     "name": "stdout",
     "output_type": "stream",
     "text": [
      "0.4565397115427201\n"
     ]
    },
    {
     "data": {
      "text/plain": [
       "array([0.46061493])"
      ]
     },
     "execution_count": 33,
     "metadata": {},
     "output_type": "execute_result"
    }
   ],
   "source": [
    "bw = silverman_bandwidth(data)\n",
    "print(bw)\n",
    "\n",
    "gaussian_kde(data, bw_method=bw)(point)"
   ]
  },
  {
   "cell_type": "code",
   "execution_count": 34,
   "id": "950f334a",
   "metadata": {},
   "outputs": [
    {
     "data": {
      "text/plain": [
       "0.44433341511978275"
      ]
     },
     "execution_count": 34,
     "metadata": {},
     "output_type": "execute_result"
    }
   ],
   "source": [
    "gauss_kde(data, point)"
   ]
  },
  {
   "cell_type": "code",
   "execution_count": 10,
   "id": "f3809e60",
   "metadata": {},
   "outputs": [],
   "source": [
    "def gaussian_kernel_density_estimate(x, data, h):\n",
    "    n = len(data)\n",
    "    sum_term = np.sum(np.exp(-0.5 * ((x - data) / h) ** 2) / (np.sqrt(2 * np.pi) * h))\n",
    "    return sum_term / n"
   ]
  },
  {
   "cell_type": "code",
   "execution_count": 18,
   "id": "097b049f",
   "metadata": {},
   "outputs": [
    {
     "data": {
      "text/plain": [
       "11.037829153014503"
      ]
     },
     "execution_count": 18,
     "metadata": {},
     "output_type": "execute_result"
    }
   ],
   "source": [
    "gaussian_kernel_density_estimate(point, data, bw)"
   ]
  },
  {
   "cell_type": "code",
   "execution_count": 17,
   "id": "5620edb5",
   "metadata": {},
   "outputs": [],
   "source": [
    "def gaussian_kernel_density_estimate(x, data, h):\n",
    "    # Calculate Gaussian kernel\n",
    "    kernel = np.exp(-0.5 * ((x - data) / h)) / (np.sqrt(2 * np.pi) * h)\n",
    "    # Normalize by dividing by the sum of the kernel values\n",
    "    normalization_factor = np.sum(kernel)\n",
    "    return np.sum(kernel)"
   ]
  },
  {
   "cell_type": "code",
   "execution_count": null,
   "id": "82e6da8a",
   "metadata": {},
   "outputs": [],
   "source": []
  }
 ],
 "metadata": {
  "kernelspec": {
   "display_name": "Python 3 (ipykernel)",
   "language": "python",
   "name": "python3"
  },
  "language_info": {
   "codemirror_mode": {
    "name": "ipython",
    "version": 3
   },
   "file_extension": ".py",
   "mimetype": "text/x-python",
   "name": "python",
   "nbconvert_exporter": "python",
   "pygments_lexer": "ipython3",
   "version": "3.10.2"
  }
 },
 "nbformat": 4,
 "nbformat_minor": 5
}
