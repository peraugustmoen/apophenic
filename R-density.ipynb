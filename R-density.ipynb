{
 "cells": [
  {
   "cell_type": "markdown",
   "id": "9c241154",
   "metadata": {},
   "source": [
    "#### Import"
   ]
  },
  {
   "cell_type": "code",
   "execution_count": 35,
   "id": "d59356ad",
   "metadata": {},
   "outputs": [],
   "source": [
    "import numpy as np\n",
    "import pandas as pd\n",
    "import matplotlib.pyplot as plt\n",
    "from rpy2 import robjects\n",
    "from rpy2.robjects.packages import importr\n",
    "from rpy2.robjects import vectors\n",
    "from scipy.stats import norm\n",
    "stats = importr('stats')\n",
    "\n",
    "from scipy.stats import gaussian_kde"
   ]
  },
  {
   "cell_type": "markdown",
   "id": "f24ea082",
   "metadata": {},
   "source": [
    "#### Data"
   ]
  },
  {
   "cell_type": "code",
   "execution_count": 36,
   "id": "adf5296c",
   "metadata": {},
   "outputs": [],
   "source": [
    "df = pd.read_csv('cow_ssba.csv')\n",
    "x = df['start_dates'].to_numpy().astype('float')\n",
    "z = df['battle_deaths'].to_numpy().astype('float')\n",
    "y = np.log(z)\n",
    "n = len(x)"
   ]
  },
  {
   "cell_type": "markdown",
   "id": "f509bdff",
   "metadata": {},
   "source": [
    "#### Functions"
   ]
  },
  {
   "cell_type": "code",
   "execution_count": 37,
   "id": "fd8f7374",
   "metadata": {},
   "outputs": [],
   "source": [
    "# Function for computing bandwidth, gives precisely the same as R\n",
    "def bw_nrd0(data):\n",
    "    if len(data) < 2:\n",
    "        raise ValueError(\"Need at least 2 data points\")\n",
    "    \n",
    "    hi = np.std(data)\n",
    "    lo = min(hi, (np.percentile(data, 75) - np.percentile(data, 25)) / 1.34) if hi else hi or abs(data[0]) or 1.0\n",
    "    \n",
    "    return 0.9 * lo * len(data)**(-0.2)\n",
    "\n",
    "\n",
    "def get_phi(x):\n",
    "    return np.exp(-x**2 / 2) / np.sqrt(2*np.pi)\n",
    "\n",
    "\n",
    "# Kernel density estimation from scratch\n",
    "def custom_KDE(data, n):\n",
    "    def f(arg):\n",
    "        # arg a single point\n",
    "        h = bw_nrd0(data)\n",
    "        return np.mean(get_phi((arg - data) / h)) / h\n",
    "    return f\n",
    "\n",
    "\n",
    "# Kernel density estimation from scratch\n",
    "def custom_KDE2(data, n):\n",
    "    def f(arg):\n",
    "        # arg a single point\n",
    "        h = bw_nrd0(data)\n",
    "        return np.mean(get_phi((arg - data) / h)) / h\n",
    "    return f\n",
    "\n",
    "\n",
    "def R_density(data):\n",
    "    def f(arg):\n",
    "        column = vectors.FloatVector(list(data))\n",
    "        output = stats.density(column, n=512)\n",
    "        xx = np.array(output[0])\n",
    "        yy = np.array(output[1])\n",
    "        \n",
    "        index = np.argmin(np.abs(xx - arg))\n",
    "        return yy[index]\n",
    "    return f"
   ]
  },
  {
   "cell_type": "code",
   "execution_count": 38,
   "id": "be328dd0",
   "metadata": {},
   "outputs": [],
   "source": [
    "f = custom_KDE(y, n)\n",
    "f = np.vectorize(f)\n",
    "\n",
    "g = R_density(y)\n",
    "g = np.vectorize(g)"
   ]
  },
  {
   "cell_type": "code",
   "execution_count": 39,
   "id": "8db0b516",
   "metadata": {},
   "outputs": [
    {
     "data": {
      "image/png": "[encoded data removed]",
      "text/plain": [
       "<Figure size 432x288 with 1 Axes>"
      ]
     },
     "metadata": {
      "needs_background": "light"
     },
     "output_type": "display_data"
    }
   ],
   "source": [
    "mplot = 500\n",
    "space = np.linspace(np.min(y) - .5, np.max(y) + .5, mplot)\n",
    "\n",
    "plt.plot(space, f(space))\n",
    "plt.plot(space, g(space))\n",
    "plt.show()"
   ]
  },
  {
   "cell_type": "code",
   "execution_count": 45,
   "id": "cba18bf2",
   "metadata": {},
   "outputs": [
    {
     "data": {
      "text/plain": [
       "0.05329075758146676"
      ]
     },
     "execution_count": 45,
     "metadata": {},
     "output_type": "execute_result"
    }
   ],
   "source": [
    "custom_KDE(y, n)(12.4)"
   ]
  },
  {
   "cell_type": "code",
   "execution_count": 46,
   "id": "bacbaa3c",
   "metadata": {},
   "outputs": [
    {
     "data": {
      "text/plain": [
       "array([0.05329076])"
      ]
     },
     "execution_count": 46,
     "metadata": {},
     "output_type": "execute_result"
    }
   ],
   "source": [
    "bww = bw_nrd0(y) / np.std(y, ddof=1)\n",
    "gaussian_kde(y, bw_method=bww)(12.4)"
   ]
  },
  {
   "cell_type": "code",
   "execution_count": null,
   "id": "779f1549",
   "metadata": {},
   "outputs": [],
   "source": []
  },
  {
   "cell_type": "code",
   "execution_count": null,
   "id": "f5cc2879",
   "metadata": {},
   "outputs": [],
   "source": []
  }
 ],
 "metadata": {
  "kernelspec": {
   "display_name": "Python 3 (ipykernel)",
   "language": "python",
   "name": "python3"
  },
  "language_info": {
   "codemirror_mode": {
    "name": "ipython",
    "version": 3
   },
   "file_extension": ".py",
   "mimetype": "text/x-python",
   "name": "python",
   "nbconvert_exporter": "python",
   "pygments_lexer": "ipython3",
   "version": "3.10.2"
  }
 },
 "nbformat": 4,
 "nbformat_minor": 5
}
