{
 "cells": [
  {
   "cell_type": "markdown",
   "id": "d200989b",
   "metadata": {},
   "source": [
    "### Normal means"
   ]
  },
  {
   "cell_type": "markdown",
   "id": "96869c3b",
   "metadata": {},
   "source": [
    "In this notebook, we simulate i.i.d. data of size n=95 from the standard normal distribution and see how often the statistical test of Cunen, Hjort and Nygård says there is a change in the mean."
   ]
  },
  {
   "cell_type": "markdown",
   "id": "622e56e6",
   "metadata": {},
   "source": [
    "#### Import"
   ]
  },
  {
   "cell_type": "code",
   "execution_count": 22,
   "id": "b0cff7cd",
   "metadata": {},
   "outputs": [],
   "source": [
    "import numpy as np\n",
    "import numba as nb\n",
    "import matplotlib.pyplot as plt"
   ]
  },
  {
   "cell_type": "markdown",
   "id": "a1a334d8",
   "metadata": {},
   "source": [
    "#### Functions"
   ]
  },
  {
   "cell_type": "code",
   "execution_count": 37,
   "id": "f3a7337f",
   "metadata": {},
   "outputs": [],
   "source": [
    "@nb.njit(nb.float64[:](nb.int64,\n",
    "                       nb.int64,\n",
    "                       nb.float64,\n",
    "                       nb.float64))\n",
    "def get_95quantile_maxHn(sim, M, c0, d0):\n",
    "    sample = np.zeros(sim)\n",
    "    space = np.linspace(0, 1, M)\n",
    "    for s in range(sim):\n",
    "        W = np.cumsum(np.random.randn(M)) / np.sqrt(M)\n",
    "        B = W - space * W[-1]\n",
    "        H = B / np.sqrt(space * (1 - space))\n",
    "        restrH = H[((space >= c0) * (space <= d0)).astype('bool')]\n",
    "        sample[s] = np.max(restrH)\n",
    "    return sample\n",
    "\n",
    "\n",
    "@nb.njit(nb.float64[:](nb.int64,\n",
    "                       nb.int64,\n",
    "                       nb.float64,\n",
    "                       nb.float64,\n",
    "                       nb.int64))\n",
    "def get_maxHnsample(sim, n, mu, sigma, cutoff):\n",
    "    sample = np.zeros(sim)\n",
    "    \n",
    "    for s in range(sim):\n",
    "        y = mu + sigma * np.random.randn(n)\n",
    "        maxHn = -np.inf\n",
    "        for tau in range(cutoff, n - cutoff):\n",
    "            yL = y[:tau]\n",
    "            yR = y[tau:]\n",
    "            \n",
    "            muL = np.mean(yL)\n",
    "            muR = np.mean(yR)\n",
    "            \n",
    "            kappaL = np.std(yL)\n",
    "            kappaR = np.std(yR)\n",
    "            \n",
    "            Hn = (muL - muR) / (kappaL**2 / tau + kappaR**2 / (n - tau))**(1 / 2)\n",
    "            if Hn >= maxHn:\n",
    "                maxHn = Hn\n",
    "        sample[s] = maxHn\n",
    "    return sample"
   ]
  },
  {
   "cell_type": "markdown",
   "id": "4d2dd86f",
   "metadata": {},
   "source": [
    "#### Parameters"
   ]
  },
  {
   "cell_type": "code",
   "execution_count": 55,
   "id": "3d9d5648",
   "metadata": {},
   "outputs": [],
   "source": [
    "mu, sigma = .0, 1.2\n",
    "c, d = 10, 85\n",
    "n = 95\n",
    "sim = 10**6\n",
    "M = 10**4\n",
    "c0, d0 = c / n, d / n\n",
    "cutoff = 5"
   ]
  },
  {
   "cell_type": "markdown",
   "id": "fc278f56",
   "metadata": {},
   "source": [
    "##### Calculate p-value"
   ]
  },
  {
   "cell_type": "code",
   "execution_count": 56,
   "id": "ac8d3ea2",
   "metadata": {},
   "outputs": [
    {
     "name": "stdout",
     "output_type": "stream",
     "text": [
      "signif = 2.7593949961172597\n"
     ]
    }
   ],
   "source": [
    "sample = get_95quantile_maxHn(sim, M, c0, d0)\n",
    "signif = np.quantile(sample, .95)\n",
    "print(f'signif = {signif}')"
   ]
  },
  {
   "cell_type": "markdown",
   "id": "09cbca27",
   "metadata": {},
   "source": [
    "#### Simulations"
   ]
  },
  {
   "cell_type": "code",
   "execution_count": 38,
   "id": "36b8bff7",
   "metadata": {},
   "outputs": [],
   "source": [
    "maxHnsample = get_maxHnsample(sim, n, mu, sigma, cutoff)"
   ]
  },
  {
   "cell_type": "code",
   "execution_count": 39,
   "id": "365c4a28",
   "metadata": {},
   "outputs": [],
   "source": [
    "plt.hist(maxHnsample, bins=200, density=True)\n",
    "plt.show()"
   ]
  },
  {
   "cell_type": "code",
   "execution_count": null,
   "id": "c6c89654",
   "metadata": {},
   "outputs": [],
   "source": [
    "np.quantile(maxHnsample, .95)"
   ]
  },
  {
   "cell_type": "code",
   "execution_count": 41,
   "id": "451d36da",
   "metadata": {},
   "outputs": [
    {
     "data": {
      "text/plain": [
       "0.14523"
      ]
     },
     "execution_count": 41,
     "metadata": {},
     "output_type": "execute_result"
    }
   ],
   "source": [
    "np.sum(maxHnsample > signif) / sim"
   ]
  },
  {
   "cell_type": "code",
   "execution_count": null,
   "id": "e87900ce",
   "metadata": {},
   "outputs": [],
   "source": []
  },
  {
   "cell_type": "code",
   "execution_count": null,
   "id": "d0c6a8d7",
   "metadata": {},
   "outputs": [],
   "source": []
  },
  {
   "cell_type": "code",
   "execution_count": null,
   "id": "41719dfe",
   "metadata": {},
   "outputs": [],
   "source": []
  },
  {
   "cell_type": "code",
   "execution_count": null,
   "id": "aa7a91f4",
   "metadata": {},
   "outputs": [],
   "source": []
  },
  {
   "cell_type": "code",
   "execution_count": null,
   "id": "f551cf9f",
   "metadata": {},
   "outputs": [],
   "source": []
  },
  {
   "cell_type": "code",
   "execution_count": null,
   "id": "e7b431d2",
   "metadata": {},
   "outputs": [],
   "source": []
  },
  {
   "cell_type": "code",
   "execution_count": 28,
   "id": "137ea80c",
   "metadata": {},
   "outputs": [
    {
     "ename": "NameError",
     "evalue": "name 'fjijf' is not defined",
     "output_type": "error",
     "traceback": [
      "\u001b[0;31m---------------------------------------------------------------------------\u001b[0m",
      "\u001b[0;31mNameError\u001b[0m                                 Traceback (most recent call last)",
      "Cell \u001b[0;32mIn [28], line 1\u001b[0m\n\u001b[0;32m----> 1\u001b[0m \u001b[43mfjijf\u001b[49m\n",
      "\u001b[0;31mNameError\u001b[0m: name 'fjijf' is not defined"
     ]
    }
   ],
   "source": [
    "fjijf"
   ]
  },
  {
   "cell_type": "markdown",
   "id": "b9f22ca6",
   "metadata": {},
   "source": [
    "#### Sandbox"
   ]
  },
  {
   "cell_type": "code",
   "execution_count": 7,
   "id": "05894b69",
   "metadata": {},
   "outputs": [],
   "source": [
    "from scipy.stats import norm"
   ]
  },
  {
   "cell_type": "code",
   "execution_count": 9,
   "id": "447ca66d",
   "metadata": {},
   "outputs": [],
   "source": [
    "sim = 100_000\n",
    "n = 1000\n",
    "sample = np.zeros(sim)\n",
    "\n",
    "for s in range(sim):\n",
    "    y = np.random.randn(n)\n",
    "    sample[s] = np.sqrt(n) * (np.mean(y))\n",
    "    "
   ]
  },
  {
   "cell_type": "code",
   "execution_count": 10,
   "id": "1d4b523a",
   "metadata": {},
   "outputs": [],
   "source": [
    "mplot = 200 \n",
    "space = np.linspace(-3, 3, mplot)\n",
    "\n",
    "plt.plot(space, norm().pdf(space))\n",
    "plt.hist(sample, bins=200, density=True)\n",
    "plt.show()"
   ]
  },
  {
   "cell_type": "code",
   "execution_count": 11,
   "id": "273c0ec1",
   "metadata": {},
   "outputs": [
    {
     "data": {
      "text/plain": [
       "0.9836860462150281"
      ]
     },
     "execution_count": 11,
     "metadata": {},
     "output_type": "execute_result"
    }
   ],
   "source": [
    "np.std(y)"
   ]
  },
  {
   "cell_type": "code",
   "execution_count": null,
   "id": "341dcdae",
   "metadata": {},
   "outputs": [],
   "source": []
  }
 ],
 "metadata": {
  "kernelspec": {
   "display_name": "Python 3 (ipykernel)",
   "language": "python",
   "name": "python3"
  },
  "language_info": {
   "codemirror_mode": {
    "name": "ipython",
    "version": 3
   },
   "file_extension": ".py",
   "mimetype": "text/x-python",
   "name": "python",
   "nbconvert_exporter": "python",
   "pygments_lexer": "ipython3",
   "version": "3.10.4"
  }
 },
 "nbformat": 4,
 "nbformat_minor": 5
}
