{
 "cells": [
  {
   "cell_type": "markdown",
   "id": "45b58962",
   "metadata": {},
   "source": [
    "#### Import"
   ]
  },
  {
   "cell_type": "code",
   "execution_count": 1,
   "id": "91dac139",
   "metadata": {},
   "outputs": [],
   "source": [
    "import numpy as np\n",
    "from scipy.stats import mielke, norm, gamma\n",
    "import matplotlib.pyplot as plt\n",
    "import pandas as pd\n",
    "from scipy.stats import gaussian_kde"
   ]
  },
  {
   "cell_type": "markdown",
   "id": "01477697",
   "metadata": {},
   "source": [
    "#### Functions"
   ]
  },
  {
   "cell_type": "code",
   "execution_count": 2,
   "id": "d0dcfe96",
   "metadata": {},
   "outputs": [],
   "source": [
    "def silverman_bandwidth(data):\n",
    "    if len(data) < 2:\n",
    "        raise ValueError(\"Need at least 2 data points\")\n",
    "    \n",
    "    hi = np.std(data)\n",
    "    lo = min(hi, np.percentile(data, 75) - np.percentile(data, 25) / 1.34)\n",
    "    \n",
    "    if lo == 0:\n",
    "        lo = hi\n",
    "    elif lo == 0:\n",
    "        lo = abs(data[0])\n",
    "    elif lo == 0:\n",
    "        lo = 1\n",
    "    \n",
    "    return 0.9 * lo * len(data)**(-0.2) / hi\n",
    "\n",
    "\n",
    "def H(tau, y, q):\n",
    "    yL = y[:tau]\n",
    "    yR = y[tau:]\n",
    "    \n",
    "    muL = np.quantile(yL, q)\n",
    "    muR = np.quantile(yR, q)\n",
    "    \n",
    "    kappaLsq = q * (1 - q) / (gaussian_kde(yL)(muL)**2)\n",
    "    kappaRsq = q * (1 - q) / (gaussian_kde(yR)(muR)**2)\n",
    "    \n",
    "    return (muL - muR) / (kappaLsq / tau + kappaRsq / (n - tau)) ** (1 / 2)"
   ]
  },
  {
   "cell_type": "markdown",
   "id": "805bf821",
   "metadata": {},
   "source": [
    "#### Data"
   ]
  },
  {
   "cell_type": "code",
   "execution_count": 3,
   "id": "a89bf786",
   "metadata": {},
   "outputs": [],
   "source": [
    "df = pd.read_csv('cow_allwars_data.csv', header=None)\n",
    "x = df[0].to_numpy().astype('float')\n",
    "z = df[1].to_numpy().astype('float')\n",
    "z[np.argmin(z)] += .01\n",
    "y = np.log(z)\n",
    "n = len(x)"
   ]
  },
  {
   "cell_type": "markdown",
   "id": "4faffa75",
   "metadata": {},
   "source": [
    "#### Plot"
   ]
  },
  {
   "cell_type": "code",
   "execution_count": 4,
   "id": "07cd5f04",
   "metadata": {},
   "outputs": [],
   "source": [
    "plt.scatter(x, np.log(z))\n",
    "plt.xlabel('year')\n",
    "plt.ylabel('log number of dead')\n",
    "plt.show()"
   ]
  },
  {
   "cell_type": "code",
   "execution_count": 6,
   "id": "212cb8f6",
   "metadata": {},
   "outputs": [],
   "source": [
    "khat, shat, loc, scalehat = mielke.fit(z, floc=1001)"
   ]
  },
  {
   "cell_type": "code",
   "execution_count": 7,
   "id": "c7e89bbc",
   "metadata": {},
   "outputs": [],
   "source": [
    "muhat_lognorm, sigmahat_lognorm = norm.fit(y)"
   ]
  },
  {
   "cell_type": "code",
   "execution_count": 8,
   "id": "47f78a58",
   "metadata": {},
   "outputs": [],
   "source": [
    "muhat = scalehat\n",
    "thetahat = shat\n",
    "alphahat = khat / shat"
   ]
  },
  {
   "cell_type": "markdown",
   "id": "324f858d",
   "metadata": {},
   "source": [
    "#### Comput Hn and plot"
   ]
  },
  {
   "cell_type": "code",
   "execution_count": 9,
   "id": "771ec2f5",
   "metadata": {},
   "outputs": [],
   "source": [
    "def H(tau, y, q):\n",
    "    counting_tau = tau + 1\n",
    "    yL = y[:tau]\n",
    "    yR = y[tau:]\n",
    "    \n",
    "    muL = np.quantile(yL, q)\n",
    "    muR = np.quantile(yR, q)\n",
    "    \n",
    "    # Calculate Silverman's bandwidth\n",
    "    #bwL = silverman_bandwidth(yL)\n",
    "    #bwR = silverman_bandwidth(yR)\n",
    "    \n",
    "\n",
    "    # Create KDE using Gaussian kernel and Silverman's bandwidth\n",
    "    #kde = gaussian_kde(data, bw_method=bandwidth)\n",
    "    \n",
    "    kappaLsq = q * (1 - q) / (gaussian_kde(yL)(muL)**2)\n",
    "    kappaRsq = q * (1 - q) / (gaussian_kde(yR)(muR)**2)\n",
    "    \n",
    "    return (muL - muR) / (kappaLsq / counting_tau + kappaRsq / (n - counting_tau)) ** (1 / 2)"
   ]
  },
  {
   "cell_type": "markdown",
   "id": "5f1d493e",
   "metadata": {},
   "source": [
    "#### Simulate lots of Hn plots"
   ]
  },
  {
   "cell_type": "code",
   "execution_count": 20,
   "id": "3eb48895",
   "metadata": {},
   "outputs": [],
   "source": [
    "signif50 = 2.7\n",
    "signif75 = 2.7\n",
    "S = 1_000\n",
    "\n",
    "sample50 = np.zeros(S)\n",
    "sample75 = np.zeros(S)"
   ]
  },
  {
   "cell_type": "code",
   "execution_count": 21,
   "id": "df76616b",
   "metadata": {},
   "outputs": [
    {
     "name": "stdout",
     "output_type": "stream",
     "text": [
      "0\n"
     ]
    }
   ],
   "source": [
    "for s in range(S):\n",
    "    if s % 1000 == 0:\n",
    "        print(s)\n",
    "    #z = mielke(loc=1001, scale=scalehat, k=khat, s=shat).rvs(n)\n",
    "    #y = np.log(z)\n",
    "    \n",
    "    y = np.random.randn(n)\n",
    "    \n",
    "    Hs50 = np.zeros(n)\n",
    "    Hs75 = np.zeros(n)\n",
    "\n",
    "    for i in range(5, n - 5):\n",
    "        tau = i\n",
    "        Hs50[i] = H(tau, y, .5)\n",
    "        Hs75[i] = H(tau, y, .75)\n",
    "        \n",
    "    sample50[s] = np.max(Hs50)\n",
    "    sample75[s] = np.max(Hs75)"
   ]
  },
  {
   "cell_type": "code",
   "execution_count": 22,
   "id": "77c60d54",
   "metadata": {},
   "outputs": [
    {
     "name": "stdout",
     "output_type": "stream",
     "text": [
      "2.7541580587136556\n",
      "3.0354153332827774\n"
     ]
    }
   ],
   "source": [
    "sim_threshold50 = np.quantile(sample50, .95)\n",
    "sim_threshold75 = np.quantile(sample75, .95)\n",
    "\n",
    "print(sim_threshold50)\n",
    "print(sim_threshold75)"
   ]
  },
  {
   "cell_type": "code",
   "execution_count": 23,
   "id": "0ae5308d",
   "metadata": {},
   "outputs": [
    {
     "data": {
      "text/plain": [
       "0.054"
      ]
     },
     "execution_count": 23,
     "metadata": {},
     "output_type": "execute_result"
    }
   ],
   "source": [
    "np.sum(sample50 > signif75) / S"
   ]
  },
  {
   "cell_type": "code",
   "execution_count": 24,
   "id": "989b010a",
   "metadata": {},
   "outputs": [
    {
     "data": {
      "text/plain": [
       "0.088"
      ]
     },
     "execution_count": 24,
     "metadata": {},
     "output_type": "execute_result"
    }
   ],
   "source": [
    "np.sum(sample75 > signif75) / S"
   ]
  },
  {
   "cell_type": "code",
   "execution_count": 25,
   "id": "177da881",
   "metadata": {},
   "outputs": [
    {
     "data": {
      "text/plain": [
       "0.116"
      ]
     },
     "execution_count": 25,
     "metadata": {},
     "output_type": "execute_result"
    }
   ],
   "source": [
    "np.sum(np.logical_or(sample50 > signif75, sample75 > signif75)) / S"
   ]
  },
  {
   "cell_type": "code",
   "execution_count": 15,
   "id": "10b39043",
   "metadata": {},
   "outputs": [
    {
     "ename": "NameError",
     "evalue": "name 'fjijf' is not defined",
     "output_type": "error",
     "traceback": [
      "\u001b[0;31m---------------------------------------------------------------------------\u001b[0m",
      "\u001b[0;31mNameError\u001b[0m                                 Traceback (most recent call last)",
      "Cell \u001b[0;32mIn [15], line 1\u001b[0m\n\u001b[0;32m----> 1\u001b[0m \u001b[43mfjijf\u001b[49m\n",
      "\u001b[0;31mNameError\u001b[0m: name 'fjijf' is not defined"
     ]
    }
   ],
   "source": [
    "fjijf"
   ]
  },
  {
   "cell_type": "code",
   "execution_count": 17,
   "id": "2e272598",
   "metadata": {},
   "outputs": [
    {
     "data": {
      "text/plain": [
       "0.5325"
      ]
     },
     "execution_count": 17,
     "metadata": {},
     "output_type": "execute_result"
    }
   ],
   "source": [
    "counter50 / S"
   ]
  },
  {
   "cell_type": "code",
   "execution_count": 18,
   "id": "8589e4ea",
   "metadata": {},
   "outputs": [
    {
     "data": {
      "text/plain": [
       "0.132"
      ]
     },
     "execution_count": 18,
     "metadata": {},
     "output_type": "execute_result"
    }
   ],
   "source": [
    "counter75 / S"
   ]
  },
  {
   "cell_type": "code",
   "execution_count": 19,
   "id": "bae66dad",
   "metadata": {},
   "outputs": [
    {
     "data": {
      "text/plain": [
       "0.543"
      ]
     },
     "execution_count": 19,
     "metadata": {},
     "output_type": "execute_result"
    }
   ],
   "source": [
    "counter_either / S"
   ]
  },
  {
   "cell_type": "code",
   "execution_count": 20,
   "id": "d5e08c21",
   "metadata": {},
   "outputs": [
    {
     "ename": "NameError",
     "evalue": "name 'fjijf' is not defined",
     "output_type": "error",
     "traceback": [
      "\u001b[0;31m---------------------------------------------------------------------------\u001b[0m",
      "\u001b[0;31mNameError\u001b[0m                                 Traceback (most recent call last)",
      "Cell \u001b[0;32mIn [20], line 1\u001b[0m\n\u001b[0;32m----> 1\u001b[0m \u001b[43mfjijf\u001b[49m\n",
      "\u001b[0;31mNameError\u001b[0m: name 'fjijf' is not defined"
     ]
    }
   ],
   "source": [
    "fjijf"
   ]
  },
  {
   "cell_type": "code",
   "execution_count": null,
   "id": "da0146b7",
   "metadata": {},
   "outputs": [],
   "source": []
  },
  {
   "cell_type": "code",
   "execution_count": null,
   "id": "a997bf07",
   "metadata": {},
   "outputs": [],
   "source": [
    "rpy2"
   ]
  },
  {
   "cell_type": "code",
   "execution_count": null,
   "id": "cc2552f2",
   "metadata": {},
   "outputs": [],
   "source": []
  },
  {
   "cell_type": "code",
   "execution_count": null,
   "id": "bbbf10a1",
   "metadata": {},
   "outputs": [],
   "source": [
    "n = len(x)\n",
    "n"
   ]
  },
  {
   "cell_type": "code",
   "execution_count": null,
   "id": "b46d4b92",
   "metadata": {},
   "outputs": [],
   "source": [
    "taus = np.arange(n)\n",
    "Hs50 = np.zeros(n)\n",
    "Hs75 = np.zeros(n)\n",
    "\n",
    "for i in range(5, n - 3):\n",
    "    tau = taus[i]\n",
    "    Hs50[i] = H(tau, y, .5)\n",
    "    Hs75[i] = H(tau, y, .75)"
   ]
  },
  {
   "cell_type": "code",
   "execution_count": null,
   "id": "7a7a9f6e",
   "metadata": {},
   "outputs": [],
   "source": [
    "plt.plot(x[5:-4], Hs50[5:-4])\n",
    "plt.plot(x[5:-4], Hs75[5:-4])\n",
    "plt.show()"
   ]
  },
  {
   "cell_type": "code",
   "execution_count": null,
   "id": "e010c5fc",
   "metadata": {},
   "outputs": [],
   "source": [
    "a = np.arange(100)\n",
    "a"
   ]
  },
  {
   "cell_type": "code",
   "execution_count": null,
   "id": "f6e852e5",
   "metadata": {},
   "outputs": [],
   "source": [
    "a[5:-5]"
   ]
  },
  {
   "cell_type": "code",
   "execution_count": null,
   "id": "7ce9b2c1",
   "metadata": {},
   "outputs": [],
   "source": [
    "a[:3]"
   ]
  },
  {
   "cell_type": "code",
   "execution_count": null,
   "id": "80607279",
   "metadata": {},
   "outputs": [],
   "source": [
    "a[3:]"
   ]
  },
  {
   "cell_type": "code",
   "execution_count": null,
   "id": "cc0505dc",
   "metadata": {},
   "outputs": [],
   "source": []
  },
  {
   "cell_type": "code",
   "execution_count": null,
   "id": "b7b2f0e9",
   "metadata": {},
   "outputs": [],
   "source": []
  },
  {
   "cell_type": "code",
   "execution_count": null,
   "id": "aa2c424a",
   "metadata": {},
   "outputs": [],
   "source": [
    "np.quantile(y, .75)"
   ]
  },
  {
   "cell_type": "code",
   "execution_count": null,
   "id": "072c0b53",
   "metadata": {},
   "outputs": [],
   "source": [
    "import numpy as np\n",
    "from scipy.stats import gaussian_kde\n",
    "\n",
    "def silverman_bandwidth(x):\n",
    "    if len(x) < 2:\n",
    "        raise ValueError(\"Need at least 2 data points\")\n",
    "    \n",
    "    hi = np.std(x)\n",
    "    lo = min(hi, np.percentile(x, 75) - np.percentile(x, 25) / 1.34)\n",
    "    \n",
    "    if lo == 0:\n",
    "        lo = hi\n",
    "    elif lo == 0:\n",
    "        lo = abs(x[0])\n",
    "    elif lo == 0:\n",
    "        lo = 1\n",
    "    \n",
    "    return 0.9 * lo * len(x)**(-0.2) / hi\n",
    "\n",
    "# Example data\n",
    "filt = np.random.random(5) < .3\n",
    "data = np.random.normal(loc=0, scale=1, size=5) * filt + np.random.gamma(shape=2, size=5) * (1 - filt)\n",
    "\n",
    "# Calculate Silverman's bandwidth\n",
    "bandwidth = silverman_bandwidth(data)\n",
    "\n",
    "# Create KDE using Gaussian kernel and Silverman's bandwidth\n",
    "kde = gaussian_kde(data, bw_method=bandwidth)\n",
    "\n",
    "# Evaluate KDE at specific points\n",
    "x_values = np.linspace(-3, 3, 100)\n",
    "kde_values = kde.evaluate(x_values)\n",
    "\n",
    "# Plot the KDE\n",
    "import matplotlib.pyplot as plt\n",
    "plt.plot(x_values, kde_values)\n",
    "plt.plot(x_values, gaussian_kde(data)(x_values))\n",
    "plt.show()"
   ]
  },
  {
   "cell_type": "code",
   "execution_count": null,
   "id": "72651c57",
   "metadata": {},
   "outputs": [],
   "source": [
    "np.random.gamma()"
   ]
  }
 ],
 "metadata": {
  "kernelspec": {
   "display_name": "Python 3 (ipykernel)",
   "language": "python",
   "name": "python3"
  },
  "language_info": {
   "codemirror_mode": {
    "name": "ipython",
    "version": 3
   },
   "file_extension": ".py",
   "mimetype": "text/x-python",
   "name": "python",
   "nbconvert_exporter": "python",
   "pygments_lexer": "ipython3",
   "version": "3.10.2"
  }
 },
 "nbformat": 4,
 "nbformat_minor": 5
}
