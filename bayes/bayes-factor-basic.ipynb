{
 "cells": [
  {
   "cell_type": "markdown",
   "id": "64275697",
   "metadata": {},
   "source": [
    "#### Import"
   ]
  },
  {
   "cell_type": "code",
   "execution_count": 134,
   "id": "a767c577",
   "metadata": {},
   "outputs": [],
   "source": [
    "import numpy as np\n",
    "import pandas as pd\n",
    "from scipy.stats import norm\n",
    "import matplotlib.pyplot as plt"
   ]
  },
  {
   "cell_type": "markdown",
   "id": "cd6835b9",
   "metadata": {},
   "source": [
    "#### Parameters"
   ]
  },
  {
   "cell_type": "code",
   "execution_count": 140,
   "id": "b867ac78",
   "metadata": {},
   "outputs": [],
   "source": [
    "muL_true = 0.0\n",
    "muR_true = 2.0\n",
    "sigma_true = 5.0\n",
    "sigmasq = sigma_true**2\n",
    "c = 5\n",
    "n = 95"
   ]
  },
  {
   "cell_type": "markdown",
   "id": "efe1c5bb",
   "metadata": {},
   "source": [
    "#### Model"
   ]
  },
  {
   "cell_type": "markdown",
   "id": "9f5d1fdd",
   "metadata": {},
   "source": [
    "Model 1: $$\\begin{align*}\\mu & \\sim \\mathrm{N}(0, 1) \\\\ y_1, \\dots, y_n\\,|\\,\\mu&\\sim\\mathrm{N}(\\mu, \\sigma^2)\\end{align*}$$\n",
    "Model 2: $$\\begin{align*}\\tau & \\sim \\mathrm{Uniform}\\{c, c+1, \\dots, n - c\\} \\\\ \\mu_L, \\mu_R & \\sim \\mathrm{N}(0, 1) \\\\ y_1, \\dots, y_\\tau & \\sim \\mathrm{N}(\\mu_L, \\sigma^2) \\\\ y_{\\tau+1}, \\dots, y_n & \\sim \\mathrm{N}(\\mu_R, \\sigma^2)\\end{align*}$$"
   ]
  },
  {
   "cell_type": "markdown",
   "id": "d4bee492",
   "metadata": {},
   "source": [
    "#### Functions"
   ]
  },
  {
   "cell_type": "code",
   "execution_count": 141,
   "id": "2e5f7bdc",
   "metadata": {},
   "outputs": [],
   "source": [
    "def logsumexp(array):\n",
    "    xstar = np.max(array)\n",
    "    return xstar + np.log(np.sum(np.exp(array - xstar)))\n",
    "\n",
    "\n",
    "def get_logML1(y, n, sigmasq):\n",
    "    return -.5 * np.log(1 + n / sigmasq) - (n / 2) * np.log(2 * np.pi * sigmasq) \\\n",
    "                - 1 / (2 * sigmasq) * np.sum(y**2) + n**2 / (2 * sigmasq * (sigmasq + n)) * np.mean(y)**2\n",
    "\n",
    "\n",
    "def get_logML2(y, n, sigmasq, c):\n",
    "    logpiys = np.zeros(n - 2 * c)\n",
    "    counter = 0\n",
    "    \n",
    "    for tau in range(c, n - c):\n",
    "        yL = y[:tau]\n",
    "        yR = y[tau:]\n",
    "        \n",
    "        logpiys[counter] = get_logML1(yL, len(yL), sigmasq) + get_logML1(yR, len(yR), sigmasq) - np.log(n - 2 * c)\n",
    "        \n",
    "        counter += 1\n",
    "    return logsumexp(logpiys)"
   ]
  },
  {
   "cell_type": "code",
   "execution_count": 137,
   "id": "d913e4da",
   "metadata": {},
   "outputs": [
    {
     "name": "stdout",
     "output_type": "stream",
     "text": [
      "0\n",
      "1000\n"
     ]
    }
   ],
   "source": [
    "sim = 2_000\n",
    "logB = np.zeros(sim)\n",
    "\n",
    "for s in range(sim):\n",
    "    if (s % 1000 == 0) and (sim > 1000):\n",
    "        print(s)\n",
    "    y = sigma_true * np.random.randn(n) + mu_true\n",
    "    logML1 = get_logML1(y, n, sigmasq)\n",
    "    logML2 = get_logML2(y, n, sigmasq, c)\n",
    "    logB[s] = logML1 - logML2"
   ]
  },
  {
   "cell_type": "code",
   "execution_count": 138,
   "id": "47b4448c",
   "metadata": {},
   "outputs": [
    {
     "data": {
      "text/plain": [
       "0.9894499068189959"
      ]
     },
     "execution_count": 138,
     "metadata": {},
     "output_type": "execute_result"
    }
   ],
   "source": [
    "B = np.exp(logB)\n",
    "np.mean(B)"
   ]
  },
  {
   "cell_type": "code",
   "execution_count": 139,
   "id": "e4aecc93",
   "metadata": {},
   "outputs": [
    {
     "data": {
      "text/plain": [
       "0.5755"
      ]
     },
     "execution_count": 139,
     "metadata": {},
     "output_type": "execute_result"
    }
   ],
   "source": [
    "np.sum(B > 1) / sim"
   ]
  },
  {
   "cell_type": "markdown",
   "id": "998fd521",
   "metadata": {},
   "source": [
    "#### Inspect real data"
   ]
  },
  {
   "cell_type": "code",
   "execution_count": 71,
   "id": "3ee442e1",
   "metadata": {},
   "outputs": [],
   "source": [
    "df = pd.read_csv('../cow_ssba.csv')\n",
    "xx = df['start_dates'].to_numpy().astype('float')\n",
    "zz = df['battle_deaths'].to_numpy().astype('float')\n",
    "yy = np.log(zz)\n",
    "nn = len(xx)"
   ]
  },
  {
   "cell_type": "code",
   "execution_count": 108,
   "id": "54c0cf66",
   "metadata": {},
   "outputs": [
    {
     "data": {
      "text/plain": [
       "2.0842315402913316"
      ]
     },
     "execution_count": 108,
     "metadata": {},
     "output_type": "execute_result"
    }
   ],
   "source": [
    "np.std(yy)"
   ]
  },
  {
   "cell_type": "code",
   "execution_count": null,
   "id": "40ca6284",
   "metadata": {},
   "outputs": [],
   "source": []
  }
 ],
 "metadata": {
  "kernelspec": {
   "display_name": "Python 3 (ipykernel)",
   "language": "python",
   "name": "python3"
  },
  "language_info": {
   "codemirror_mode": {
    "name": "ipython",
    "version": 3
   },
   "file_extension": ".py",
   "mimetype": "text/x-python",
   "name": "python",
   "nbconvert_exporter": "python",
   "pygments_lexer": "ipython3",
   "version": "3.10.4"
  }
 },
 "nbformat": 4,
 "nbformat_minor": 5
}
