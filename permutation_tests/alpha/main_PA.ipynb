{
 "cells": [
  {
   "cell_type": "markdown",
   "id": "9bbb76fc",
   "metadata": {},
   "source": [
    "#### Import\n"
   ]
  },
  {
   "cell_type": "code",
   "execution_count": 55,
   "id": "c838c2ee",
   "metadata": {},
   "outputs": [],
   "source": [
    "import pandas as pd\n",
    "import numpy as np\n",
    "import numba as nb\n",
    "import matplotlib.pyplot as plt\n",
    "from scipy.stats import pareto"
   ]
  },
  {
   "cell_type": "markdown",
   "id": "1b10e720",
   "metadata": {},
   "source": [
    "#### Data"
   ]
  },
  {
   "cell_type": "code",
   "execution_count": 56,
   "id": "d05b91fd",
   "metadata": {},
   "outputs": [],
   "source": [
    "df = pd.read_csv('../cow_ssba.csv')\n",
    "x = df['start_dates'].to_numpy().astype('float')\n",
    "z = df['battle_deaths'].to_numpy().astype('float')\n",
    "#x = np.append(x, 2024)\n",
    "#z = np.append(z, 25000_000)\n",
    "\n",
    "y = np.log(z)\n",
    "n = len(x)"
   ]
  },
  {
   "cell_type": "code",
   "execution_count": null,
   "id": "6b5073c9",
   "metadata": {},
   "outputs": [],
   "source": []
  },
  {
   "cell_type": "markdown",
   "id": "3536b764",
   "metadata": {},
   "source": [
    "#### Functions"
   ]
  },
  {
   "cell_type": "code",
   "execution_count": 57,
   "id": "56a2fc0c",
   "metadata": {},
   "outputs": [],
   "source": [
    "@nb.njit(nb.types.Tuple((nb.float64, nb.float64))(nb.float64[:]))\n",
    "def get_xmin_a(mydata):\n",
    "    xmins = np.unique(mydata) # get all unique values of data\n",
    "    dat = np.zeros(len(xmins))\n",
    "    z = np.sort(mydata)\n",
    "    for i in range(len(xmins) - 1):\n",
    "        xmin = xmins[i] # choose next xmin\n",
    "        z1 = z[z >= xmin] # truncate data below this xmin value\n",
    "        n = len(z1)\n",
    "        a = 1 + n * np.sum(np.log(z1 / xmin))**(-1) # estimate alpha using direct MLE\n",
    "        cx = (np.arange(n) + 1)[::-1] / n # construct the empirical CDF\n",
    "        cf = (z1 / xmin)**(-a + 1) # construct the fitted theoretical CDF\n",
    "        dat[i] = np.max(np.abs(cf - cx)) # compute the KS statistic\n",
    "    \n",
    "    D = np.min(dat[(dat > 0) * ~np.isnan(dat)]) # find smallest D value\n",
    "    xmin = np.min(xmins[dat==D]) # find xmin value; use min in case of tie\n",
    "    z = mydata[mydata >= xmin] # truncate data below xmin\n",
    "    z = np.sort(z)\n",
    "    n = len(z) # get tail length (in case we want to know that)\n",
    "    alpha = 1 + n * np.sum(np.log(z / xmin))**(-1) # get corresponding alpha estimate via MLE\n",
    "    return xmin, alpha\n",
    "\n",
    "\n",
    "@nb.njit(nb.float64[:](nb.float64[:], nb.int64, nb.float64, nb.int64))\n",
    "def get_permuted_sample(z, n, tau, sim):\n",
    "    sample = np.zeros(sim)\n",
    "    \n",
    "    for s in range(sim):\n",
    "        indices = np.random.permutation(n)\n",
    "        zL = z[indices[:tau]]\n",
    "        zR = z[indices[tau:]]\n",
    "        \n",
    "        xminL, alphaL = get_xmin_a(zL)\n",
    "        xminR, alphaR = get_xmin_a(zR)\n",
    "        \n",
    "        sample[s] = alphaL - alphaR\n",
    "    return sample\n",
    "\n",
    "\n",
    "@nb.njit(nb.float64[:,:](nb.float64[:], nb.int64, nb.int64, nb.int64))\n",
    "def get_permuted_sample_all(z, n, cutoff, sim):\n",
    "    sample = np.zeros((sim, n- 2*cutoff ))\n",
    "    \n",
    "    for s in range(sim):\n",
    "        indices = np.random.permutation(n)\n",
    "        taudiff = np.zeros(n - 2 * cutoff)\n",
    "        counter = 0\n",
    "        for tau in range(cutoff, n - cutoff):\n",
    "            zL = z[indices[:tau]]\n",
    "            zR = z[indices[tau:]]\n",
    "        \n",
    "            xminL, alphaL = get_xmin_a(zL)\n",
    "            xminR, alphaR = get_xmin_a(zR)\n",
    "            \n",
    "            sample[s, counter] = np.abs(alphaL - alphaR) * np.sqrt(n / tau * (n - tau))\n",
    "            #sample[s, counter] = np.abs(alphaL - alphaR) \n",
    "            counter+=1\n",
    "            \n",
    "    \n",
    "    return sample\n",
    "\n",
    "@nb.njit(nb.float64[:,:](nb.float64[:], nb.int64, nb.int64,nb.int64, nb.int64,nb.int64, nb.int64))\n",
    "def get_permuted_sample_all_specific(z, n, start, stop, sim, normalize,seed):\n",
    "    np.random.seed(seed)\n",
    "    sample = np.zeros((sim, stop-start ))\n",
    "    \n",
    "    for s in range(sim):\n",
    "        indices = np.random.permutation(n)\n",
    "        #taudiff = np.zeros(n - 2 * cutoff)\n",
    "        counter = 0\n",
    "        for tau in range(start, stop):\n",
    "            zL = z[indices[:tau]]\n",
    "            zR = z[indices[tau:]]\n",
    "        \n",
    "            xminL, alphaL = get_xmin_a(zL)\n",
    "            xminR, alphaR = get_xmin_a(zR)\n",
    "\n",
    "            if(normalize):\n",
    "                sample[s, counter] = (alphaL - alphaR) * np.sqrt(n / tau * (n - tau))\n",
    "            else:\n",
    "                sample[s, counter] = (alphaL - alphaR)\n",
    "                \n",
    "            #sample[s, counter] = np.abs(alphaL - alphaR) \n",
    "            counter+=1\n",
    "            \n",
    "    \n",
    "    return sample"
   ]
  },
  {
   "cell_type": "markdown",
   "id": "b5258371",
   "metadata": {},
   "source": [
    "#### Estimate"
   ]
  },
  {
   "cell_type": "code",
   "execution_count": 4,
   "id": "87aaa522",
   "metadata": {},
   "outputs": [],
   "source": [
    "xmin, alpha = get_xmin_a(z)"
   ]
  },
  {
   "cell_type": "markdown",
   "id": "51f7daed",
   "metadata": {},
   "source": [
    "#### Plot"
   ]
  },
  {
   "cell_type": "code",
   "execution_count": 5,
   "id": "f6289ef8",
   "metadata": {},
   "outputs": [],
   "source": [
    "logQ = np.log(np.array([np.sum(y >= y[i]) / n for i in range(n)]))\n",
    "\n",
    "mplot = 2\n",
    "ymin = np.log(xmin)\n",
    "y0 = np.log(np.sum(y >= ymin) / n)\n",
    "space = np.linspace(ymin, np.max(y))"
   ]
  },
  {
   "cell_type": "code",
   "execution_count": 6,
   "id": "f4e727da",
   "metadata": {},
   "outputs": [
    {
     "data": {
      "text/plain": [
       "[<matplotlib.lines.Line2D at 0x12d293d50>]"
      ]
     },
     "execution_count": 6,
     "metadata": {},
     "output_type": "execute_result"
    },
    {
     "data": {
      "image/png": "[encoded data removed]",
      "text/plain": [
       "<Figure size 640x480 with 1 Axes>"
      ]
     },
     "metadata": {},
     "output_type": "display_data"
    }
   ],
   "source": [
    "plt.scatter(y, logQ)\n",
    "plt.plot(space, (1 - alpha) * (space - ymin) + y0, color='C1')"
   ]
  },
  {
   "cell_type": "markdown",
   "id": "352361fb",
   "metadata": {},
   "source": [
    "#### WW2"
   ]
  },
  {
   "cell_type": "code",
   "execution_count": 7,
   "id": "6316eec2",
   "metadata": {},
   "outputs": [],
   "source": [
    "zL = z[x < 1945]\n",
    "zR = z[x >= 1945]\n",
    "\n",
    "yL = y[x < 1945]\n",
    "yR = y[x >= 1945]\n",
    "\n",
    "nL = len(yL)\n",
    "nR = len(yR)\n",
    "\n",
    "xminL, alphaL = get_xmin_a(zL)\n",
    "xminR, alphaR = get_xmin_a(zR)"
   ]
  },
  {
   "cell_type": "code",
   "execution_count": 8,
   "id": "3f4fd35c",
   "metadata": {},
   "outputs": [],
   "source": [
    "logQL = np.log(np.array([np.sum(yL >= yL[i]) / nL for i in range(nL)]))\n",
    "logQR = np.log(np.array([np.sum(yR >= yR[i]) / nR for i in range(nR)]))\n",
    "\n",
    "yminL = np.log(xminL)\n",
    "y0L = np.log(np.sum(yL >= yminL) / nL)\n",
    "spaceL = np.linspace(yminL, np.max(yL))\n",
    "\n",
    "yminR = np.log(xminR)\n",
    "y0R = np.log(np.sum(yR >= yminR) / nR)\n",
    "spaceR = np.linspace(yminR, np.max(yR))"
   ]
  },
  {
   "cell_type": "code",
   "execution_count": 9,
   "id": "4863124d",
   "metadata": {},
   "outputs": [
    {
     "data": {
      "image/png": "[encoded data removed]",
      "text/plain": [
       "<Figure size 640x480 with 1 Axes>"
      ]
     },
     "metadata": {},
     "output_type": "display_data"
    }
   ],
   "source": [
    "plt.scatter(yL, logQL)\n",
    "plt.scatter(yR, logQR)\n",
    "plt.plot(spaceL, (1 - alphaL) * (spaceL - yminL) + y0L, color='C2')\n",
    "plt.plot(spaceR, (1 - alphaR) * (spaceR - yminR) + y0R, color='C3')\n",
    "plt.show()"
   ]
  },
  {
   "cell_type": "markdown",
   "id": "e26f7c11",
   "metadata": {},
   "source": [
    "#### Permutation test"
   ]
  },
  {
   "cell_type": "code",
   "execution_count": 10,
   "id": "8ab6463d",
   "metadata": {},
   "outputs": [],
   "source": [
    "tauWW2 = np.argmax(x >= 1945)\n",
    "sim = 1000\n",
    "\n",
    "permuted_sampleWW2 = get_permuted_sample(z, n, tauWW2, sim)"
   ]
  },
  {
   "cell_type": "code",
   "execution_count": 11,
   "id": "9d7174da-cad3-4647-a3ba-a6a2142761c0",
   "metadata": {},
   "outputs": [
    {
     "data": {
      "text/plain": [
       "1969.18333333333"
      ]
     },
     "execution_count": 11,
     "metadata": {},
     "output_type": "execute_result"
    }
   ],
   "source": [
    "x[70]"
   ]
  },
  {
   "cell_type": "code",
   "execution_count": 12,
   "id": "5bc0856b",
   "metadata": {},
   "outputs": [
    {
     "data": {
      "text/plain": [
       "0.01746267398489465"
      ]
     },
     "execution_count": 12,
     "metadata": {},
     "output_type": "execute_result"
    }
   ],
   "source": [
    "obs_diffWW2 = alphaL - alphaR\n",
    "obs_diffWW2"
   ]
  },
  {
   "cell_type": "code",
   "execution_count": 13,
   "id": "fac6ef1f",
   "metadata": {},
   "outputs": [
    {
     "data": {
      "image/png": "[encoded data removed]",
      "text/plain": [
       "<Figure size 640x480 with 1 Axes>"
      ]
     },
     "metadata": {},
     "output_type": "display_data"
    }
   ],
   "source": [
    "plt.hist(permuted_sampleWW2, bins=200, density=True)\n",
    "plt.vlines(obs_diffWW2, 0, 1, color='C1')\n",
    "plt.show()"
   ]
  },
  {
   "cell_type": "code",
   "execution_count": 14,
   "id": "84d98628",
   "metadata": {},
   "outputs": [
    {
     "data": {
      "text/plain": [
       "0.27445470845207276"
      ]
     },
     "execution_count": 14,
     "metadata": {},
     "output_type": "execute_result"
    }
   ],
   "source": [
    "np.quantile(permuted_sampleWW2, .95)"
   ]
  },
  {
   "cell_type": "markdown",
   "id": "62d41513",
   "metadata": {},
   "source": [
    "#### Across all changepoints"
   ]
  },
  {
   "cell_type": "code",
   "execution_count": 15,
   "id": "e34a14b8-9468-4cd9-8578-00282a37dc37",
   "metadata": {},
   "outputs": [],
   "source": [
    "cutoff =25\n",
    "sim = 1000"
   ]
  },
  {
   "cell_type": "code",
   "execution_count": 16,
   "id": "5d89db3b",
   "metadata": {},
   "outputs": [],
   "source": [
    "sample = get_permuted_sample_all(z, n, cutoff, sim)"
   ]
  },
  {
   "cell_type": "code",
   "execution_count": 17,
   "id": "ddb71548-5bab-4079-95e1-92c3ad92ad3d",
   "metadata": {},
   "outputs": [
    {
     "data": {
      "text/plain": [
       "[<matplotlib.lines.Line2D at 0x159125350>]"
      ]
     },
     "execution_count": 17,
     "metadata": {},
     "output_type": "execute_result"
    },
    {
     "data": {
      "image/png": "[encoded data removed]",
      "text/plain": [
       "<Figure size 640x480 with 1 Axes>"
      ]
     },
     "metadata": {},
     "output_type": "display_data"
    }
   ],
   "source": [
    "maxes = sample.max(axis=0)\n",
    "maxes\n",
    "\n",
    "plt.plot(maxes)"
   ]
  },
  {
   "cell_type": "markdown",
   "id": "27f79446-4b19-4818-aeef-c51376a02146",
   "metadata": {},
   "source": [
    "### Specific for time period 1911 - 1968"
   ]
  },
  {
   "cell_type": "code",
   "execution_count": 18,
   "id": "bda062a8-7c55-43cf-b8b5-a9d6a3cbf990",
   "metadata": {},
   "outputs": [
    {
     "name": "stdout",
     "output_type": "stream",
     "text": [
      "1914.58055555556\n",
      "1965.59722222222\n",
      "8578031.0\n",
      "7061.0\n"
     ]
    }
   ],
   "source": [
    "sim = 50000\n",
    "seed = 1996\n",
    "start = 38\n",
    "stop = 67\n",
    "print(x[start] ) #\n",
    "print(x[stop]) # 1968\n",
    "print(z[start])\n",
    "print(z[stop])"
   ]
  },
  {
   "cell_type": "markdown",
   "id": "de3e68d3-aee7-4669-a0c8-a5d6a8b07876",
   "metadata": {},
   "source": [
    "Warning: the changepoint location is defined to be the FIRST POINT in the right segment!!!!!"
   ]
  },
  {
   "cell_type": "code",
   "execution_count": 19,
   "id": "f9bb606f-0295-48db-a8f3-b43bbbaa5f10",
   "metadata": {},
   "outputs": [
    {
     "data": {
      "text/plain": [
       "[<matplotlib.lines.Line2D at 0x158df4e10>]"
      ]
     },
     "execution_count": 19,
     "metadata": {},
     "output_type": "execute_result"
    },
    {
     "data": {
      "image/png": "[encoded data removed]",
      "text/plain": [
       "<Figure size 640x480 with 1 Axes>"
      ]
     },
     "metadata": {},
     "output_type": "display_data"
    }
   ],
   "source": [
    "sample = get_permuted_sample_all_specific(z, n, start,stop, sim, normalize = 0,seed =seed)\n",
    "maxes = sample.max(axis=0)\n",
    "maxes\n",
    "\n",
    "plt.plot(maxes)"
   ]
  },
  {
   "cell_type": "markdown",
   "id": "e5004f1c-5946-46a0-b662-c63d1cbfdfbb",
   "metadata": {},
   "source": [
    "#### Quantile of maximum across changepoint locations:"
   ]
  },
  {
   "cell_type": "code",
   "execution_count": 20,
   "id": "c4ed6b14-7a08-41d2-b693-41c7fc6728c9",
   "metadata": {},
   "outputs": [
    {
     "data": {
      "text/plain": [
       "0.8445393142247345"
      ]
     },
     "execution_count": 20,
     "metadata": {},
     "output_type": "execute_result"
    }
   ],
   "source": [
    "np.quantile(abs(sample), 0.99)"
   ]
  },
  {
   "cell_type": "markdown",
   "id": "dccaac67-84a0-41d9-9153-dc36bd9d33d8",
   "metadata": {},
   "source": [
    "#### Plot of upper 95% quantiles for each changepoint location: (two-sided)"
   ]
  },
  {
   "cell_type": "code",
   "execution_count": 21,
   "id": "1ecb1688",
   "metadata": {},
   "outputs": [
    {
     "data": {
      "text/plain": [
       "[<matplotlib.lines.Line2D at 0x158d49890>]"
      ]
     },
     "execution_count": 21,
     "metadata": {},
     "output_type": "execute_result"
    },
    {
     "data": {
      "image/png": "[encoded data removed]",
      "text/plain": [
       "<Figure size 640x480 with 1 Axes>"
      ]
     },
     "metadata": {},
     "output_type": "display_data"
    }
   ],
   "source": [
    "quantiles = np.zeros(stop - start)\n",
    "for i in range(stop-start):\n",
    "    quantiles[i] = np.quantile(abs(sample[:,i]),0.95)\n",
    "\n",
    "plt.plot(quantiles)"
   ]
  },
  {
   "cell_type": "markdown",
   "id": "9802f5ee-a3f9-4e77-aff4-2ebbea21685e",
   "metadata": {},
   "source": [
    "The above plot shows that the upper quantiles ( i.e. critical values) for the test at each of the changepoint locations are of the same order and very similar. It is therefore reasonable to construct the following test: reject H_0 if the maximum statistic over the candidate changepoint locations is above a given threshold. We now find this threshold: "
   ]
  },
  {
   "cell_type": "code",
   "execution_count": 22,
   "id": "dfa0b2f3-d616-4691-8cdc-3ae786e6d85f",
   "metadata": {},
   "outputs": [
    {
     "name": "stdout",
     "output_type": "stream",
     "text": [
      "0.8879648739704026\n"
     ]
    }
   ],
   "source": [
    "abs_sample = np.abs(sample)\n",
    "critical_value_overall_twosided = np.quantile(abs_sample.max(axis=1),0.95)\n",
    "print(critical_value_overall_twosided)"
   ]
  },
  {
   "cell_type": "markdown",
   "id": "a1e6f4cf-21c1-4e6e-978b-28c5087667b7",
   "metadata": {},
   "source": [
    "#### Multiple twosided changepoint test"
   ]
  },
  {
   "cell_type": "code",
   "execution_count": 23,
   "id": "3788b978-b54e-49ab-bf0c-4b570a98a0da",
   "metadata": {},
   "outputs": [],
   "source": [
    "obsdiffs = np.zeros(stop-start)\n",
    "counter = 0\n",
    "\n",
    "for tau in range(start,stop):\n",
    "    zL = z[:tau]\n",
    "    zR = z[tau:]\n",
    "    xminL, alphaL = get_xmin_a(zL)\n",
    "    xminR, alphaR = get_xmin_a(zR)\n",
    "    \n",
    "    obsdiffs[counter] = alphaL - alphaR\n",
    "    \n",
    "    counter += 1\n",
    "    "
   ]
  },
  {
   "cell_type": "code",
   "execution_count": 24,
   "id": "634ac70d",
   "metadata": {},
   "outputs": [
    {
     "data": {
      "image/png": "[encoded data removed]",
      "text/plain": [
       "<Figure size 640x480 with 1 Axes>"
      ]
     },
     "metadata": {},
     "output_type": "display_data"
    }
   ],
   "source": [
    "tauspace = np.arange(start, stop)\n",
    "\n",
    "plt.plot(x[tauspace], quantiles)\n",
    "plt.plot(x[tauspace], obsdiffs)\n",
    "plt.axhline(y = critical_value_overall_twosided, color = 'r', linestyle = '-') \n",
    "#plt.plot(tauspace, 1 / (tauspace * (n - tauspace)))\n",
    "#plt.plot(tauspace, np.ones(len(tauspace)) * np.quantile(sample, .95))\n",
    "#plt.ylim(.3, .5)\n",
    "plt.show()"
   ]
  },
  {
   "cell_type": "markdown",
   "id": "f52c55c2-6854-4fb3-a9b5-f45444a66a1f",
   "metadata": {},
   "source": [
    "#### Multiple onesided changepoint test (for a decrease in battle deaths)"
   ]
  },
  {
   "cell_type": "markdown",
   "id": "cd9043c7-d038-4190-8443-fe59a134f533",
   "metadata": {},
   "source": [
    "Here we check the hypothesis that wars have become LESS deadly, i.e. that alpha has INCREASED, i.e alpha_R > alpha_L"
   ]
  },
  {
   "cell_type": "code",
   "execution_count": 25,
   "id": "ece4afe4-4573-46ed-a0d2-86d2ac833847",
   "metadata": {},
   "outputs": [],
   "source": [
    "obsdiffs_onesided_negative = np.zeros(stop-start)\n",
    "counter = 0\n",
    "\n",
    "for tau in range(start,stop):\n",
    "    zL = z[:tau]\n",
    "    zR = z[tau:]\n",
    "    xminL, alphaL = get_xmin_a(zL)\n",
    "    xminR, alphaR = get_xmin_a(zR)\n",
    "    \n",
    "    obsdiffs_onesided_negative[counter] = alphaR - alphaL\n",
    "    \n",
    "    counter += 1\n",
    "    "
   ]
  },
  {
   "cell_type": "code",
   "execution_count": 26,
   "id": "173a2325-4624-41ca-8e85-8c610e7938e2",
   "metadata": {},
   "outputs": [
    {
     "name": "stdout",
     "output_type": "stream",
     "text": [
      "0.7433753238090864\n"
     ]
    }
   ],
   "source": [
    "onesided_negative_sample = -sample\n",
    "critical_value_overall_onesided_negative = np.quantile(onesided_negative_sample.max(axis=1),0.95)\n",
    "print(critical_value_overall_onesided_negative)\n",
    "\n",
    "quantiles_onesided_negative = np.zeros(stop - start)\n",
    "for i in range(stop-start):\n",
    "    quantiles_onesided_negative[i] = np.quantile((-sample[:,i]),0.95)"
   ]
  },
  {
   "cell_type": "code",
   "execution_count": 27,
   "id": "3cacc0a9-b57a-4e15-9982-ef2fd8a00c25",
   "metadata": {},
   "outputs": [
    {
     "data": {
      "image/png": "[encoded data removed]",
      "text/plain": [
       "<Figure size 640x480 with 1 Axes>"
      ]
     },
     "metadata": {},
     "output_type": "display_data"
    }
   ],
   "source": [
    "tauspace = np.arange(start, stop)\n",
    "\n",
    "plt.plot(x[tauspace], quantiles_onesided_negative)\n",
    "plt.plot(x[tauspace], obsdiffs_onesided_negative)\n",
    "plt.axhline(y = critical_value_overall_onesided_negative, color = 'r', linestyle = '-') \n",
    "#plt.plot(tauspace, 1 / (tauspace * (n - tauspace)))\n",
    "#plt.plot(tauspace, np.ones(len(tauspace)) * np.quantile(sample, .95))\n",
    "#plt.ylim(.3, .5)\n",
    "plt.show()"
   ]
  },
  {
   "cell_type": "markdown",
   "id": "7c9bca2f-392d-45d1-92e8-d82ca53551d6",
   "metadata": {},
   "source": [
    "#### Multiple onesided changepoint test (for an increase in battle deaths)"
   ]
  },
  {
   "cell_type": "markdown",
   "id": "8701a9b7-8318-43ba-894e-c1ca3ca25db2",
   "metadata": {},
   "source": [
    "Here we check the hypothesis that wars have become MORE deadly, i.e. that alpha has DECREASED, i.e alpha_L > alpha_R"
   ]
  },
  {
   "cell_type": "code",
   "execution_count": 28,
   "id": "ce2f02ea-d3f0-4470-bb0c-d238a46e391a",
   "metadata": {},
   "outputs": [],
   "source": [
    "obsdiffs_onesided_positive = np.zeros(stop-start)\n",
    "counter = 0\n",
    "\n",
    "for tau in range(start,stop):\n",
    "    zL = z[:tau]\n",
    "    zR = z[tau:]\n",
    "    xminL, alphaL = get_xmin_a(zL)\n",
    "    xminR, alphaR = get_xmin_a(zR)\n",
    "    \n",
    "    obsdiffs_onesided_positive[counter] = alphaL - alphaR\n",
    "    \n",
    "    counter += 1\n",
    "    "
   ]
  },
  {
   "cell_type": "code",
   "execution_count": 29,
   "id": "120bbd27-aa1e-4aa3-b87a-7fa1115d6757",
   "metadata": {},
   "outputs": [
    {
     "name": "stdout",
     "output_type": "stream",
     "text": [
      "0.5537857352040204\n"
     ]
    }
   ],
   "source": [
    "critical_value_overall_onesided_positive = np.quantile(sample.max(axis=1),0.95)\n",
    "print(critical_value_overall_onesided_positive)\n",
    "\n",
    "quantiles_onesided_positive = np.zeros(stop - start)\n",
    "for i in range(stop-start):\n",
    "    quantiles_onesided_positive[i] = np.quantile((sample[:,i]),0.95)"
   ]
  },
  {
   "cell_type": "code",
   "execution_count": 30,
   "id": "e948819e-696d-4690-a276-f5ed3ba7afea",
   "metadata": {
    "scrolled": true
   },
   "outputs": [
    {
     "data": {
      "image/png": "[encoded data removed]",
      "text/plain": [
       "<Figure size 640x480 with 1 Axes>"
      ]
     },
     "metadata": {},
     "output_type": "display_data"
    }
   ],
   "source": [
    "tauspace = np.arange(start, stop)\n",
    "\n",
    "plt.plot(x[tauspace], quantiles_onesided_positive)\n",
    "plt.plot(x[tauspace], obsdiffs_onesided_positive)\n",
    "plt.axhline(y = critical_value_overall_onesided_positive, color = 'r', linestyle = '-') \n",
    "#plt.plot(tauspace, 1 / (tauspace * (n - tauspace)))\n",
    "#plt.plot(tauspace, np.ones(len(tauspace)) * np.quantile(sample, .95))\n",
    "#plt.ylim(.3, .5)\n",
    "plt.show()"
   ]
  },
  {
   "cell_type": "markdown",
   "id": "91fbb5ea-94a3-44c4-a5cd-809a176a1d2e",
   "metadata": {},
   "source": []
  },
  {
   "cell_type": "code",
   "execution_count": 31,
   "id": "070306ce-323c-4e8b-a89c-8a7a00447f2f",
   "metadata": {
    "scrolled": true
   },
   "outputs": [
    {
     "name": "stdout",
     "output_type": "stream",
     "text": [
      "0.09292\n"
     ]
    }
   ],
   "source": [
    "p_val_onesided_positive = np.sum(sample.max(axis=1) > np.max(obsdiffs_onesided_positive)) / sim\n",
    "print(p_val_onesided_positive)"
   ]
  },
  {
   "cell_type": "markdown",
   "id": "38190505-ab99-42fa-93b5-e159a2eb1252",
   "metadata": {},
   "source": [
    "#### World war two"
   ]
  },
  {
   "cell_type": "code",
   "execution_count": 32,
   "id": "60eb9114-f030-484f-95d4-9a24ff0f30df",
   "metadata": {},
   "outputs": [
    {
     "data": {
      "text/plain": [
       "57"
      ]
     },
     "execution_count": 32,
     "metadata": {},
     "output_type": "execute_result"
    }
   ],
   "source": [
    "tauWW2"
   ]
  },
  {
   "cell_type": "code",
   "execution_count": 33,
   "id": "37cd9b69-f46c-480f-8735-31f34cd78d21",
   "metadata": {},
   "outputs": [
    {
     "name": "stdout",
     "output_type": "stream",
     "text": [
      "1.6079519125661128\n",
      "1.5858207347417657\n"
     ]
    }
   ],
   "source": [
    "tau = tauWW2+1 # the changepoint location is implicitly defined as the first observation in the new segment\n",
    "zL = z[:tau]\n",
    "zR = z[tau:]\n",
    "xminL, alphaL = get_xmin_a(zL)\n",
    "xminR, alphaR = get_xmin_a(zR)\n",
    "\n",
    "print(alphaL)\n",
    "print(alphaR)"
   ]
  },
  {
   "cell_type": "markdown",
   "id": "4cd71df2-0d9b-45d1-b008-0649ad221cc5",
   "metadata": {},
   "source": [
    "# Including Ukraine"
   ]
  },
  {
   "cell_type": "code",
   "execution_count": 107,
   "id": "cf747349-7f7b-4cc0-b421-d0b380acd011",
   "metadata": {},
   "outputs": [],
   "source": [
    "xu = df['start_dates'].to_numpy().astype('float')\n",
    "zu = df['battle_deaths'].to_numpy().astype('float')\n",
    "\n",
    "xu = np.append(x, 2024)\n",
    "zu = np.append(zu, 3_500_000)\n",
    "\n",
    "yu = np.log(zu)\n",
    "nu = len(xu)"
   ]
  },
  {
   "cell_type": "code",
   "execution_count": 108,
   "id": "f999821c-b9f7-436a-82cd-338aa672d138",
   "metadata": {},
   "outputs": [
    {
     "data": {
      "text/plain": [
       "96"
      ]
     },
     "execution_count": 108,
     "metadata": {},
     "output_type": "execute_result"
    }
   ],
   "source": [
    "nu"
   ]
  },
  {
   "cell_type": "code",
   "execution_count": 109,
   "id": "bb52dfa4",
   "metadata": {},
   "outputs": [
    {
     "name": "stdout",
     "output_type": "stream",
     "text": [
      "1914.58055555556\n",
      "1965.59722222222\n",
      "8578031.0\n",
      "7061.0\n"
     ]
    }
   ],
   "source": [
    "sim = 50000\n",
    "seed = 1996\n",
    "start = 38\n",
    "stop = 67\n",
    "print(x[start] ) #\n",
    "print(x[stop]) # 1968\n",
    "print(z[start])\n",
    "print(z[stop])"
   ]
  },
  {
   "cell_type": "markdown",
   "id": "a9e2cc0a-3dc2-44b7-a83b-004a77672dbf",
   "metadata": {},
   "source": [
    "Warning: the changepoint location is defined to be the FIRST POINT in the right segment!!!!!"
   ]
  },
  {
   "cell_type": "code",
   "execution_count": 110,
   "id": "ff0d66cd",
   "metadata": {},
   "outputs": [
    {
     "data": {
      "text/plain": [
       "[<matplotlib.lines.Line2D at 0x16676b5d0>]"
      ]
     },
     "execution_count": 110,
     "metadata": {},
     "output_type": "execute_result"
    },
    {
     "data": {
      "image/png": "[encoded data removed]",
      "text/plain": [
       "<Figure size 640x480 with 1 Axes>"
      ]
     },
     "metadata": {},
     "output_type": "display_data"
    }
   ],
   "source": [
    "sampleu = get_permuted_sample_all_specific(zu, nu, start,stop, sim, normalize = 0,seed =seed)\n",
    "maxesu = sampleu.max(axis=0)\n",
    "maxesu\n",
    "\n",
    "plt.plot(maxesu)"
   ]
  },
  {
   "cell_type": "code",
   "execution_count": 125,
   "id": "50992d78-9cee-495e-bad5-44ec693c5e81",
   "metadata": {},
   "outputs": [
    {
     "data": {
      "text/plain": [
       "[<matplotlib.lines.Line2D at 0x1669f9610>]"
      ]
     },
     "execution_count": 125,
     "metadata": {},
     "output_type": "execute_result"
    },
    {
     "data": {
      "image/png": "[encoded data removed]",
      "text/plain": [
       "<Figure size 640x480 with 1 Axes>"
      ]
     },
     "metadata": {},
     "output_type": "display_data"
    }
   ],
   "source": [
    "maxesu = sampleu.max(axis=0)\n",
    "plt.plot(maxesu)"
   ]
  },
  {
   "cell_type": "markdown",
   "id": "9df5b9db-a937-4534-896a-8957b118673f",
   "metadata": {},
   "source": [
    "#### Quantile of maximum across changepoint locations:"
   ]
  },
  {
   "cell_type": "code",
   "execution_count": 111,
   "id": "f6cc50db",
   "metadata": {},
   "outputs": [
    {
     "data": {
      "text/plain": [
       "0.69160817018019"
      ]
     },
     "execution_count": 111,
     "metadata": {},
     "output_type": "execute_result"
    }
   ],
   "source": [
    "np.quantile(abs(sampleu), 0.99)"
   ]
  },
  {
   "cell_type": "markdown",
   "id": "194fc395-2a9c-4df0-ae23-ea7a63372359",
   "metadata": {},
   "source": [
    "#### Plot of upper 95% quantiles for each changepoint location: (two-sided)"
   ]
  },
  {
   "cell_type": "code",
   "execution_count": 112,
   "id": "2f31f8f4",
   "metadata": {},
   "outputs": [
    {
     "data": {
      "text/plain": [
       "[<matplotlib.lines.Line2D at 0x1668a8490>]"
      ]
     },
     "execution_count": 112,
     "metadata": {},
     "output_type": "execute_result"
    },
    {
     "data": {
      "image/png": "[encoded data removed]",
      "text/plain": [
       "<Figure size 640x480 with 1 Axes>"
      ]
     },
     "metadata": {},
     "output_type": "display_data"
    }
   ],
   "source": [
    "quantilesu = np.zeros(stop - start)\n",
    "for i in range(stop-start):\n",
    "    quantilesu[i] = np.quantile(abs(sampleu[:,i]),0.95)\n",
    "\n",
    "plt.plot(quantilesu)"
   ]
  },
  {
   "cell_type": "markdown",
   "id": "683fe6f7-ec01-412a-8e3f-e4c5866c164e",
   "metadata": {},
   "source": [
    "The above plot shows that the upper quantiles ( i.e. critical values) for the test at each of the changepoint locations are of the same order and very similar. It is therefore reasonable to construct the following test: reject H_0 if the maximum statistic over the candidate changepoint locations is above a given threshold. We now find this threshold: "
   ]
  },
  {
   "cell_type": "code",
   "execution_count": 113,
   "id": "1cfb2270",
   "metadata": {},
   "outputs": [
    {
     "name": "stdout",
     "output_type": "stream",
     "text": [
      "0.7496681473294395\n"
     ]
    }
   ],
   "source": [
    "abs_sampleu = np.abs(sampleu)\n",
    "critical_value_overall_twosidedu = np.quantile(abs_sampleu.max(axis=1),0.95)\n",
    "print(critical_value_overall_twosidedu)"
   ]
  },
  {
   "cell_type": "markdown",
   "id": "cafb9346-1c60-41c7-aadc-7f76aa354614",
   "metadata": {},
   "source": [
    "#### Multiple twosided changepoint test"
   ]
  },
  {
   "cell_type": "code",
   "execution_count": 114,
   "id": "a8bfc7a5",
   "metadata": {},
   "outputs": [],
   "source": [
    "obsdiffsu = np.zeros(stop-start)\n",
    "counter = 0\n",
    "\n",
    "for tau in range(start,stop):\n",
    "    zL = zu[:tau]\n",
    "    zR = zu[tau:]\n",
    "    xminL, alphaL = get_xmin_a(zL)\n",
    "    xminR, alphaR = get_xmin_a(zR)\n",
    "    \n",
    "    obsdiffsu[counter] = alphaL - alphaR\n",
    "    \n",
    "    counter += 1\n",
    "    "
   ]
  },
  {
   "cell_type": "code",
   "execution_count": 115,
   "id": "9ab6c684",
   "metadata": {},
   "outputs": [
    {
     "data": {
      "image/png": "[encoded data removed]",
      "text/plain": [
       "<Figure size 640x480 with 1 Axes>"
      ]
     },
     "metadata": {},
     "output_type": "display_data"
    }
   ],
   "source": [
    "tauspace = np.arange(start, stop)\n",
    "\n",
    "plt.plot(xu[tauspace], quantilesu)\n",
    "plt.plot(xu[tauspace], obsdiffsu)\n",
    "plt.axhline(y = critical_value_overall_twosidedu, color = 'r', linestyle = '-') \n",
    "#plt.plot(tauspace, 1 / (tauspace * (n - tauspace)))\n",
    "#plt.plot(tauspace, np.ones(len(tauspace)) * np.quantile(sample, .95))\n",
    "#plt.ylim(.3, .5)\n",
    "plt.show()"
   ]
  },
  {
   "cell_type": "markdown",
   "id": "66495e96-078e-491f-bf80-f5b7378921d8",
   "metadata": {},
   "source": [
    "#### Multiple onesided changepoint test (for a decrease in battle deaths)"
   ]
  },
  {
   "cell_type": "markdown",
   "id": "8f93961e-0aea-457a-8132-3c93ebc3d898",
   "metadata": {},
   "source": [
    "Here we check the hypothesis that wars have become LESS deadly, i.e. that alpha has INCREASED, i.e alpha_R > alpha_L"
   ]
  },
  {
   "cell_type": "code",
   "execution_count": 116,
   "id": "3c6e1857",
   "metadata": {},
   "outputs": [],
   "source": [
    "obsdiffs_onesided_negativeu = np.zeros(stop-start)\n",
    "counter = 0\n",
    "\n",
    "for tau in range(start,stop):\n",
    "    zL = zu[:tau]\n",
    "    zR = zu[tau:]\n",
    "    xminL, alphaL = get_xmin_a(zL)\n",
    "    xminR, alphaR = get_xmin_a(zR)\n",
    "    \n",
    "    obsdiffs_onesided_negativeu[counter] = alphaR - alphaL\n",
    "    \n",
    "    counter += 1\n",
    "    "
   ]
  },
  {
   "cell_type": "code",
   "execution_count": 117,
   "id": "843bce24",
   "metadata": {},
   "outputs": [
    {
     "name": "stdout",
     "output_type": "stream",
     "text": [
      "0.614108105296688\n"
     ]
    }
   ],
   "source": [
    "onesided_negative_sampleu = -sampleu\n",
    "critical_value_overall_onesided_negativeu = np.quantile(onesided_negative_sampleu.max(axis=1),0.95)\n",
    "print(critical_value_overall_onesided_negativeu)\n",
    "\n",
    "quantiles_onesided_negativeu = np.zeros(stop - start)\n",
    "for i in range(stop-start):\n",
    "    quantiles_onesided_negativeu[i] = np.quantile((-sampleu[:,i]),0.95)"
   ]
  },
  {
   "cell_type": "code",
   "execution_count": 118,
   "id": "27264c34",
   "metadata": {},
   "outputs": [
    {
     "data": {
      "image/png": "[encoded data removed]",
      "text/plain": [
       "<Figure size 640x480 with 1 Axes>"
      ]
     },
     "metadata": {},
     "output_type": "display_data"
    }
   ],
   "source": [
    "tauspace = np.arange(start, stop)\n",
    "\n",
    "plt.plot(xu[tauspace], quantiles_onesided_negativeu)\n",
    "plt.plot(xu[tauspace], obsdiffs_onesided_negativeu)\n",
    "plt.axhline(y = critical_value_overall_onesided_negativeu, color = 'r', linestyle = '-') \n",
    "#plt.plot(tauspace, 1 / (tauspace * (n - tauspace)))\n",
    "#plt.plot(tauspace, np.ones(len(tauspace)) * np.quantile(sample, .95))\n",
    "#plt.ylim(.3, .5)\n",
    "plt.show()"
   ]
  },
  {
   "cell_type": "markdown",
   "id": "fe1c820f-480b-473b-a7d1-6f092ed4fd02",
   "metadata": {},
   "source": [
    "#### Multiple onesided changepoint test (for an increase in battle deaths)"
   ]
  },
  {
   "cell_type": "markdown",
   "id": "a8db7a49-f0ff-4a6e-82b1-5edf85dbb840",
   "metadata": {},
   "source": [
    "Here we check the hypothesis that wars have become MORE deadly, i.e. that alpha has DECREASED, i.e alpha_L > alpha_R"
   ]
  },
  {
   "cell_type": "code",
   "execution_count": 119,
   "id": "271c0e5c",
   "metadata": {},
   "outputs": [],
   "source": [
    "obsdiffs_onesided_positiveu = np.zeros(stop-start)\n",
    "counter = 0\n",
    "\n",
    "for tau in range(start,stop):\n",
    "    zL = zu[:tau]\n",
    "    zR = zu[tau:]\n",
    "    xminL, alphaL = get_xmin_a(zL)\n",
    "    xminR, alphaR = get_xmin_a(zR)\n",
    "    \n",
    "    obsdiffs_onesided_positiveu[counter] = alphaL - alphaR\n",
    "    \n",
    "    counter += 1\n",
    "    "
   ]
  },
  {
   "cell_type": "code",
   "execution_count": 120,
   "id": "138b0619",
   "metadata": {},
   "outputs": [
    {
     "name": "stdout",
     "output_type": "stream",
     "text": [
      "0.4969138486894023\n"
     ]
    }
   ],
   "source": [
    "critical_value_overall_onesided_positiveu = np.quantile(sampleu.max(axis=1),0.95)\n",
    "print(critical_value_overall_onesided_positiveu)\n",
    "\n",
    "quantiles_onesided_positiveu = np.zeros(stop - start)\n",
    "for i in range(stop-start):\n",
    "    quantiles_onesided_positiveu[i] = np.quantile((sampleu[:,i]),0.95)"
   ]
  },
  {
   "cell_type": "code",
   "execution_count": 126,
   "id": "5ebd1859",
   "metadata": {},
   "outputs": [
    {
     "data": {
      "image/png": "[encoded data removed]",
      "text/plain": [
       "<Figure size 640x480 with 1 Axes>"
      ]
     },
     "metadata": {},
     "output_type": "display_data"
    }
   ],
   "source": [
    "tauspace = np.arange(start, stop)\n",
    "\n",
    "plt.plot(xu[tauspace], quantiles_onesided_positiveu)\n",
    "plt.plot(xu[tauspace], obsdiffs_onesided_positiveu)\n",
    "plt.axhline(y = critical_value_overall_onesided_positiveu, color = 'r', linestyle = '-') \n",
    "#plt.plot(tauspace, 1 / (tauspace * (n - tauspace)))\n",
    "#plt.plot(tauspace, np.ones(len(tauspace)) * np.quantile(sample, .95))\n",
    "#plt.ylim(.3, .5)\n",
    "plt.show()"
   ]
  },
  {
   "cell_type": "markdown",
   "id": "8f38434e-3ef3-42d9-a59a-21bdf57a5f07",
   "metadata": {},
   "source": [
    "Actually there is some evidence of an increase..... just before the second world war.."
   ]
  },
  {
   "cell_type": "code",
   "execution_count": 122,
   "id": "2da7b34b",
   "metadata": {
    "scrolled": true
   },
   "outputs": [
    {
     "name": "stdout",
     "output_type": "stream",
     "text": [
      "0.05942\n"
     ]
    }
   ],
   "source": [
    "p_val_onesided_positiveu = np.sum(sampleu.max(axis=1) > np.max(obsdiffs_onesided_positiveu)) / sim\n",
    "print(p_val_onesided_positiveu)"
   ]
  },
  {
   "cell_type": "code",
   "execution_count": null,
   "id": "e5ad6644-05a4-417d-abf1-0d10cc0d72fd",
   "metadata": {},
   "outputs": [],
   "source": []
  },
  {
   "cell_type": "markdown",
   "id": "8ca6d70b-7a9e-4b4e-a332-3e13398acad8",
   "metadata": {},
   "source": [
    "#### World war two"
   ]
  },
  {
   "cell_type": "code",
   "execution_count": 77,
   "id": "df2712eb-adf7-419f-a4a0-18d73d3eb545",
   "metadata": {},
   "outputs": [
    {
     "data": {
      "text/plain": [
       "array([ 0.16444708,  0.02757588,  0.07714294,  0.09984522,  0.39087909,\n",
       "        0.41311549,  0.4080992 ,  0.2053096 ,  0.2053096 ,  0.20784904,\n",
       "        0.32690096,  0.41537173,  0.4237937 ,  0.44272222,  0.31008861,\n",
       "        0.30266203,  0.31943698,  0.01561129,  0.03383839,  0.03383839,\n",
       "        0.03133637,  0.06887687, -0.07082445, -0.07082445, -0.07082445,\n",
       "       -0.07082445, -0.07082445, -0.07082445, -0.07082445])"
      ]
     },
     "execution_count": 77,
     "metadata": {},
     "output_type": "execute_result"
    }
   ],
   "source": [
    "obsdiffs_onesided_positiveu"
   ]
  },
  {
   "cell_type": "code",
   "execution_count": 49,
   "id": "6665e85f",
   "metadata": {},
   "outputs": [
    {
     "data": {
      "text/plain": [
       "57"
      ]
     },
     "execution_count": 49,
     "metadata": {},
     "output_type": "execute_result"
    }
   ],
   "source": [
    "tauWW2"
   ]
  },
  {
   "cell_type": "code",
   "execution_count": 90,
   "id": "693e2c93",
   "metadata": {},
   "outputs": [
    {
     "name": "stdout",
     "output_type": "stream",
     "text": [
      "1.7806971222225962\n",
      "1.4780350893232752\n",
      "0.30266203289932103\n"
     ]
    }
   ],
   "source": [
    "tau = tauWW2-4 # the changepoint location is implicitly defined as the first observation in the new segment\n",
    "zL = zu[:tau]\n",
    "zR = zu[tau:]\n",
    "xminL, alphaL = get_xmin_a(zL)\n",
    "xminR, alphaR = get_xmin_a(zR)\n",
    "\n",
    "print(alphaL)\n",
    "print(alphaR)\n",
    "print(alphaL - alphaR)"
   ]
  },
  {
   "cell_type": "markdown",
   "id": "8393a29a-eccf-4711-881c-611f3d3b46df",
   "metadata": {},
   "source": [
    "# OTHER STUFF:"
   ]
  },
  {
   "cell_type": "code",
   "execution_count": 51,
   "id": "74c6c812",
   "metadata": {},
   "outputs": [],
   "source": [
    "obsdiffs = np.zeros(n - 2 * cutoff)\n",
    "counter = 0\n",
    "\n",
    "for tau in range(cutoff, n - cutoff):\n",
    "    zL = z[:tau]\n",
    "    zR = z[tau:]\n",
    "    xminL, alphaL = get_xmin_a(zL)\n",
    "    xminR, alphaR = get_xmin_a(zR)\n",
    "    \n",
    "    obsdiffs[counter] = np.sqrt(tau * (n - tau)) * np.abs(alphaL - alphaR)\n",
    "    \n",
    "    counter += 1\n",
    "    "
   ]
  },
  {
   "cell_type": "code",
   "execution_count": 52,
   "id": "da9a50a8",
   "metadata": {},
   "outputs": [
    {
     "data": {
      "text/plain": [
       "20.394984017279914"
      ]
     },
     "execution_count": 52,
     "metadata": {},
     "output_type": "execute_result"
    }
   ],
   "source": [
    "np.max(obsdiffs)"
   ]
  },
  {
   "cell_type": "code",
   "execution_count": 53,
   "id": "55ccad55",
   "metadata": {},
   "outputs": [],
   "source": [
    "sim = 1000\n",
    "cutoff = 5\n",
    "\n",
    "quantiles = np.zeros(n - 2*cutoff)\n",
    "counter = 0\n",
    "\n",
    "for tau in range(cutoff, n - cutoff):\n",
    "    sample = get_permuted_sample(z, n, tau, sim)\n",
    "    quantiles[counter] = np.quantile(sample, .95)\n",
    "    \n",
    "    \n",
    "    counter += 1"
   ]
  },
  {
   "cell_type": "code",
   "execution_count": 54,
   "id": "494069be",
   "metadata": {},
   "outputs": [
    {
     "ename": "ValueError",
     "evalue": "x and y must have same first dimension, but have shapes (85,) and (45,)",
     "output_type": "error",
     "traceback": [
      "\u001b[0;31m---------------------------------------------------------------------------\u001b[0m",
      "\u001b[0;31mValueError\u001b[0m                                Traceback (most recent call last)",
      "Cell \u001b[0;32mIn[54], line 4\u001b[0m\n\u001b[1;32m      1\u001b[0m tauspace \u001b[38;5;241m=\u001b[39m np\u001b[38;5;241m.\u001b[39marange(cutoff, n \u001b[38;5;241m-\u001b[39m cutoff)\n\u001b[1;32m      3\u001b[0m \u001b[38;5;66;03m#plt.plot(tauspace, quantiles)\u001b[39;00m\n\u001b[0;32m----> 4\u001b[0m \u001b[43mplt\u001b[49m\u001b[38;5;241;43m.\u001b[39;49m\u001b[43mplot\u001b[49m\u001b[43m(\u001b[49m\u001b[43mtauspace\u001b[49m\u001b[43m,\u001b[49m\u001b[43m \u001b[49m\u001b[43mobsdiffs\u001b[49m\u001b[43m)\u001b[49m\n\u001b[1;32m      5\u001b[0m \u001b[38;5;66;03m#plt.plot(tauspace, 1 / (tauspace * (n - tauspace)))\u001b[39;00m\n\u001b[1;32m      6\u001b[0m plt\u001b[38;5;241m.\u001b[39mplot(tauspace, np\u001b[38;5;241m.\u001b[39mones(\u001b[38;5;28mlen\u001b[39m(tauspace)) \u001b[38;5;241m*\u001b[39m np\u001b[38;5;241m.\u001b[39mquantile(sample, \u001b[38;5;241m.95\u001b[39m))\n",
      "File \u001b[0;32m/opt/homebrew/Caskroom/miniforge/base/envs/fastpermenv/lib/python3.11/site-packages/matplotlib/pyplot.py:2812\u001b[0m, in \u001b[0;36mplot\u001b[0;34m(scalex, scaley, data, *args, **kwargs)\u001b[0m\n\u001b[1;32m   2810\u001b[0m \u001b[38;5;129m@_copy_docstring_and_deprecators\u001b[39m(Axes\u001b[38;5;241m.\u001b[39mplot)\n\u001b[1;32m   2811\u001b[0m \u001b[38;5;28;01mdef\u001b[39;00m \u001b[38;5;21mplot\u001b[39m(\u001b[38;5;241m*\u001b[39margs, scalex\u001b[38;5;241m=\u001b[39m\u001b[38;5;28;01mTrue\u001b[39;00m, scaley\u001b[38;5;241m=\u001b[39m\u001b[38;5;28;01mTrue\u001b[39;00m, data\u001b[38;5;241m=\u001b[39m\u001b[38;5;28;01mNone\u001b[39;00m, \u001b[38;5;241m*\u001b[39m\u001b[38;5;241m*\u001b[39mkwargs):\n\u001b[0;32m-> 2812\u001b[0m     \u001b[38;5;28;01mreturn\u001b[39;00m \u001b[43mgca\u001b[49m\u001b[43m(\u001b[49m\u001b[43m)\u001b[49m\u001b[38;5;241;43m.\u001b[39;49m\u001b[43mplot\u001b[49m\u001b[43m(\u001b[49m\n\u001b[1;32m   2813\u001b[0m \u001b[43m        \u001b[49m\u001b[38;5;241;43m*\u001b[39;49m\u001b[43margs\u001b[49m\u001b[43m,\u001b[49m\u001b[43m \u001b[49m\u001b[43mscalex\u001b[49m\u001b[38;5;241;43m=\u001b[39;49m\u001b[43mscalex\u001b[49m\u001b[43m,\u001b[49m\u001b[43m \u001b[49m\u001b[43mscaley\u001b[49m\u001b[38;5;241;43m=\u001b[39;49m\u001b[43mscaley\u001b[49m\u001b[43m,\u001b[49m\n\u001b[1;32m   2814\u001b[0m \u001b[43m        \u001b[49m\u001b[38;5;241;43m*\u001b[39;49m\u001b[38;5;241;43m*\u001b[39;49m\u001b[43m(\u001b[49m\u001b[43m{\u001b[49m\u001b[38;5;124;43m\"\u001b[39;49m\u001b[38;5;124;43mdata\u001b[39;49m\u001b[38;5;124;43m\"\u001b[39;49m\u001b[43m:\u001b[49m\u001b[43m \u001b[49m\u001b[43mdata\u001b[49m\u001b[43m}\u001b[49m\u001b[43m \u001b[49m\u001b[38;5;28;43;01mif\u001b[39;49;00m\u001b[43m \u001b[49m\u001b[43mdata\u001b[49m\u001b[43m \u001b[49m\u001b[38;5;129;43;01mis\u001b[39;49;00m\u001b[43m \u001b[49m\u001b[38;5;129;43;01mnot\u001b[39;49;00m\u001b[43m \u001b[49m\u001b[38;5;28;43;01mNone\u001b[39;49;00m\u001b[43m \u001b[49m\u001b[38;5;28;43;01melse\u001b[39;49;00m\u001b[43m \u001b[49m\u001b[43m{\u001b[49m\u001b[43m}\u001b[49m\u001b[43m)\u001b[49m\u001b[43m,\u001b[49m\u001b[43m \u001b[49m\u001b[38;5;241;43m*\u001b[39;49m\u001b[38;5;241;43m*\u001b[39;49m\u001b[43mkwargs\u001b[49m\u001b[43m)\u001b[49m\n",
      "File \u001b[0;32m/opt/homebrew/Caskroom/miniforge/base/envs/fastpermenv/lib/python3.11/site-packages/matplotlib/axes/_axes.py:1688\u001b[0m, in \u001b[0;36mAxes.plot\u001b[0;34m(self, scalex, scaley, data, *args, **kwargs)\u001b[0m\n\u001b[1;32m   1445\u001b[0m \u001b[38;5;250m\u001b[39m\u001b[38;5;124;03m\"\"\"\u001b[39;00m\n\u001b[1;32m   1446\u001b[0m \u001b[38;5;124;03mPlot y versus x as lines and/or markers.\u001b[39;00m\n\u001b[1;32m   1447\u001b[0m \n\u001b[0;32m   (...)\u001b[0m\n\u001b[1;32m   1685\u001b[0m \u001b[38;5;124;03m(``'green'``) or hex strings (``'#008000'``).\u001b[39;00m\n\u001b[1;32m   1686\u001b[0m \u001b[38;5;124;03m\"\"\"\u001b[39;00m\n\u001b[1;32m   1687\u001b[0m kwargs \u001b[38;5;241m=\u001b[39m cbook\u001b[38;5;241m.\u001b[39mnormalize_kwargs(kwargs, mlines\u001b[38;5;241m.\u001b[39mLine2D)\n\u001b[0;32m-> 1688\u001b[0m lines \u001b[38;5;241m=\u001b[39m [\u001b[38;5;241m*\u001b[39m\u001b[38;5;28mself\u001b[39m\u001b[38;5;241m.\u001b[39m_get_lines(\u001b[38;5;241m*\u001b[39margs, data\u001b[38;5;241m=\u001b[39mdata, \u001b[38;5;241m*\u001b[39m\u001b[38;5;241m*\u001b[39mkwargs)]\n\u001b[1;32m   1689\u001b[0m \u001b[38;5;28;01mfor\u001b[39;00m line \u001b[38;5;129;01min\u001b[39;00m lines:\n\u001b[1;32m   1690\u001b[0m     \u001b[38;5;28mself\u001b[39m\u001b[38;5;241m.\u001b[39madd_line(line)\n",
      "File \u001b[0;32m/opt/homebrew/Caskroom/miniforge/base/envs/fastpermenv/lib/python3.11/site-packages/matplotlib/axes/_base.py:311\u001b[0m, in \u001b[0;36m_process_plot_var_args.__call__\u001b[0;34m(self, data, *args, **kwargs)\u001b[0m\n\u001b[1;32m    309\u001b[0m     this \u001b[38;5;241m+\u001b[39m\u001b[38;5;241m=\u001b[39m args[\u001b[38;5;241m0\u001b[39m],\n\u001b[1;32m    310\u001b[0m     args \u001b[38;5;241m=\u001b[39m args[\u001b[38;5;241m1\u001b[39m:]\n\u001b[0;32m--> 311\u001b[0m \u001b[38;5;28;01myield from\u001b[39;00m \u001b[38;5;28;43mself\u001b[39;49m\u001b[38;5;241;43m.\u001b[39;49m\u001b[43m_plot_args\u001b[49m\u001b[43m(\u001b[49m\n\u001b[1;32m    312\u001b[0m \u001b[43m    \u001b[49m\u001b[43mthis\u001b[49m\u001b[43m,\u001b[49m\u001b[43m \u001b[49m\u001b[43mkwargs\u001b[49m\u001b[43m,\u001b[49m\u001b[43m \u001b[49m\u001b[43mambiguous_fmt_datakey\u001b[49m\u001b[38;5;241;43m=\u001b[39;49m\u001b[43mambiguous_fmt_datakey\u001b[49m\u001b[43m)\u001b[49m\n",
      "File \u001b[0;32m/opt/homebrew/Caskroom/miniforge/base/envs/fastpermenv/lib/python3.11/site-packages/matplotlib/axes/_base.py:504\u001b[0m, in \u001b[0;36m_process_plot_var_args._plot_args\u001b[0;34m(self, tup, kwargs, return_kwargs, ambiguous_fmt_datakey)\u001b[0m\n\u001b[1;32m    501\u001b[0m     \u001b[38;5;28mself\u001b[39m\u001b[38;5;241m.\u001b[39maxes\u001b[38;5;241m.\u001b[39myaxis\u001b[38;5;241m.\u001b[39mupdate_units(y)\n\u001b[1;32m    503\u001b[0m \u001b[38;5;28;01mif\u001b[39;00m x\u001b[38;5;241m.\u001b[39mshape[\u001b[38;5;241m0\u001b[39m] \u001b[38;5;241m!=\u001b[39m y\u001b[38;5;241m.\u001b[39mshape[\u001b[38;5;241m0\u001b[39m]:\n\u001b[0;32m--> 504\u001b[0m     \u001b[38;5;28;01mraise\u001b[39;00m \u001b[38;5;167;01mValueError\u001b[39;00m(\u001b[38;5;124mf\u001b[39m\u001b[38;5;124m\"\u001b[39m\u001b[38;5;124mx and y must have same first dimension, but \u001b[39m\u001b[38;5;124m\"\u001b[39m\n\u001b[1;32m    505\u001b[0m                      \u001b[38;5;124mf\u001b[39m\u001b[38;5;124m\"\u001b[39m\u001b[38;5;124mhave shapes \u001b[39m\u001b[38;5;132;01m{\u001b[39;00mx\u001b[38;5;241m.\u001b[39mshape\u001b[38;5;132;01m}\u001b[39;00m\u001b[38;5;124m and \u001b[39m\u001b[38;5;132;01m{\u001b[39;00my\u001b[38;5;241m.\u001b[39mshape\u001b[38;5;132;01m}\u001b[39;00m\u001b[38;5;124m\"\u001b[39m)\n\u001b[1;32m    506\u001b[0m \u001b[38;5;28;01mif\u001b[39;00m x\u001b[38;5;241m.\u001b[39mndim \u001b[38;5;241m>\u001b[39m \u001b[38;5;241m2\u001b[39m \u001b[38;5;129;01mor\u001b[39;00m y\u001b[38;5;241m.\u001b[39mndim \u001b[38;5;241m>\u001b[39m \u001b[38;5;241m2\u001b[39m:\n\u001b[1;32m    507\u001b[0m     \u001b[38;5;28;01mraise\u001b[39;00m \u001b[38;5;167;01mValueError\u001b[39;00m(\u001b[38;5;124mf\u001b[39m\u001b[38;5;124m\"\u001b[39m\u001b[38;5;124mx and y can be no greater than 2D, but have \u001b[39m\u001b[38;5;124m\"\u001b[39m\n\u001b[1;32m    508\u001b[0m                      \u001b[38;5;124mf\u001b[39m\u001b[38;5;124m\"\u001b[39m\u001b[38;5;124mshapes \u001b[39m\u001b[38;5;132;01m{\u001b[39;00mx\u001b[38;5;241m.\u001b[39mshape\u001b[38;5;132;01m}\u001b[39;00m\u001b[38;5;124m and \u001b[39m\u001b[38;5;132;01m{\u001b[39;00my\u001b[38;5;241m.\u001b[39mshape\u001b[38;5;132;01m}\u001b[39;00m\u001b[38;5;124m\"\u001b[39m)\n",
      "\u001b[0;31mValueError\u001b[0m: x and y must have same first dimension, but have shapes (85,) and (45,)"
     ]
    },
    {
     "data": {
      "image/png": "[encoded data removed]",
      "text/plain": [
       "<Figure size 640x480 with 1 Axes>"
      ]
     },
     "metadata": {},
     "output_type": "display_data"
    }
   ],
   "source": [
    "tauspace = np.arange(cutoff, n - cutoff)\n",
    "\n",
    "#plt.plot(tauspace, quantiles)\n",
    "plt.plot(tauspace, obsdiffs)\n",
    "#plt.plot(tauspace, 1 / (tauspace * (n - tauspace)))\n",
    "plt.plot(tauspace, np.ones(len(tauspace)) * np.quantile(sample, .95))\n",
    "plt.show()"
   ]
  },
  {
   "cell_type": "code",
   "execution_count": null,
   "id": "a234d3cd",
   "metadata": {},
   "outputs": [],
   "source": []
  },
  {
   "cell_type": "markdown",
   "id": "7a6c4a9c",
   "metadata": {},
   "source": [
    "#### Check power"
   ]
  },
  {
   "cell_type": "code",
   "execution_count": null,
   "id": "93205871",
   "metadata": {},
   "outputs": [],
   "source": [
    "n = 150\n",
    "cutoff = 5\n",
    "n1 = n // 2\n",
    "n2 = n - n1\n",
    "\n",
    "z1 = pareto(b=2.2).rvs(n1)\n",
    "z2 = pareto(b=1.8).rvs(n2)\n",
    "\n",
    "z = np.concatenate((z1, z2))"
   ]
  },
  {
   "cell_type": "code",
   "execution_count": null,
   "id": "006461ca",
   "metadata": {},
   "outputs": [],
   "source": [
    "sample = get_permuted_sample_all(z, n, cutoff, sim)"
   ]
  },
  {
   "cell_type": "code",
   "execution_count": null,
   "id": "fe14a524",
   "metadata": {},
   "outputs": [],
   "source": [
    "np.quantile(sample, .95)"
   ]
  },
  {
   "cell_type": "code",
   "execution_count": null,
   "id": "d1aa7b70",
   "metadata": {},
   "outputs": [],
   "source": [
    "obsdiffs = np.zeros(n - 2 * cutoff)\n",
    "counter = 0\n",
    "\n",
    "for tau in range(cutoff, n - cutoff):\n",
    "    zL = z[:tau]\n",
    "    zR = z[tau:]\n",
    "    xminL, alphaL = get_xmin_a(zL)\n",
    "    xminR, alphaR = get_xmin_a(zR)\n",
    "    \n",
    "    obsdiffs[counter] = np.sqrt(tau * (n - tau)) * np.abs(alphaL - alphaR)\n",
    "    \n",
    "    counter += 1"
   ]
  },
  {
   "cell_type": "code",
   "execution_count": null,
   "id": "559e839f",
   "metadata": {},
   "outputs": [],
   "source": [
    "tauspace = np.arange(cutoff, n - cutoff)"
   ]
  },
  {
   "cell_type": "code",
   "execution_count": null,
   "id": "6c1fa7d7",
   "metadata": {},
   "outputs": [],
   "source": [
    "plt.plot(tauspace, obsdiffs)"
   ]
  },
  {
   "cell_type": "code",
   "execution_count": null,
   "id": "ca1b0cd2",
   "metadata": {},
   "outputs": [],
   "source": []
  },
  {
   "cell_type": "markdown",
   "id": "6888656d",
   "metadata": {},
   "source": [
    "#### Korea only"
   ]
  },
  {
   "cell_type": "code",
   "execution_count": null,
   "id": "08f7eaf1",
   "metadata": {},
   "outputs": [],
   "source": [
    "zL = z[x < 1950]\n",
    "zR = z[x >= 1950]\n",
    "\n",
    "yL = y[x < 1950]\n",
    "yR = y[x >= 1950]\n",
    "\n",
    "nL = len(yL)\n",
    "nR = len(yR)\n",
    "\n",
    "xminL, alphaL = get_xmin_a(zL)\n",
    "xminR, alphaR = get_xmin_a(zR)"
   ]
  },
  {
   "cell_type": "code",
   "execution_count": null,
   "id": "f88737ad",
   "metadata": {},
   "outputs": [],
   "source": [
    "logQL = np.log(np.array([np.sum(yL >= yL[i]) / nL for i in range(nL)]))\n",
    "logQR = np.log(np.array([np.sum(yR >= yR[i]) / nR for i in range(nR)]))\n",
    "\n",
    "yminL = np.log(xminL)\n",
    "y0L = np.log(np.sum(yL >= yminL) / nL)\n",
    "spaceL = np.linspace(yminL, np.max(yL))\n",
    "\n",
    "yminR = np.log(xminR)\n",
    "y0R = np.log(np.sum(yR >= yminR) / nR)\n",
    "spaceR = np.linspace(yminR, np.max(yR))"
   ]
  },
  {
   "cell_type": "code",
   "execution_count": null,
   "id": "0d9e3d18",
   "metadata": {},
   "outputs": [],
   "source": [
    "obs_diffK = np.abs(alphaL - alphaR)\n",
    "obs_diffK"
   ]
  },
  {
   "cell_type": "code",
   "execution_count": null,
   "id": "39778c45",
   "metadata": {},
   "outputs": [],
   "source": [
    "tauK = np.argmax(x >= 1950)\n",
    "sim = 10_000\n",
    "\n",
    "permuted_sampleK = get_permuted_sample(z, n, tauK, sim)"
   ]
  },
  {
   "cell_type": "code",
   "execution_count": null,
   "id": "8d1c65b4",
   "metadata": {},
   "outputs": [],
   "source": [
    "np.quantile(permuted_sampleK, .95)"
   ]
  },
  {
   "cell_type": "markdown",
   "id": "cff7b899",
   "metadata": {},
   "source": [
    "#### Pointwise p-values"
   ]
  },
  {
   "cell_type": "code",
   "execution_count": null,
   "id": "b4dc52d7",
   "metadata": {},
   "outputs": [],
   "source": [
    "sim = 1000\n",
    "cutoff = 5\n",
    "\n",
    "quantiles1 = np.zeros(n - 2*cutoff)\n",
    "quantiles2 = np.zeros(n - 2*cutoff)\n",
    "counter = 0\n",
    "\n",
    "for tau in range(cutoff, n - cutoff):\n",
    "    sample = get_permuted_sample(z, n, tau, sim)\n",
    "    quantiles1[counter] = np.quantile(sample, .95)\n",
    "    \n",
    "    \n",
    "    counter += 1"
   ]
  },
  {
   "cell_type": "code",
   "execution_count": null,
   "id": "d8451a17",
   "metadata": {},
   "outputs": [],
   "source": [
    "obsdiffs = np.zeros(n - 2 * cutoff)\n",
    "counter = 0\n",
    "\n",
    "for tau in range(cutoff, n - cutoff):\n",
    "    zL = z[:tau]\n",
    "    zR = z[tau:]\n",
    "    xminL, alphaL = get_xmin_a(zL)\n",
    "    xminR, alphaR = get_xmin_a(zR)\n",
    "    \n",
    "    obsdiffs[counter] = alphaL - alphaR\n",
    "    \n",
    "    counter += 1\n",
    "    "
   ]
  },
  {
   "cell_type": "code",
   "execution_count": null,
   "id": "4c2ecdd6",
   "metadata": {},
   "outputs": [],
   "source": [
    "tauspace = np.arange(cutoff, n - cutoff)\n",
    "\n",
    "plt.plot(tauspace, quantiles)\n",
    "plt.plot(tauspace, obsdiffs)\n",
    "#plt.plot(tauspace, 1 / (tauspace * (n - tauspace)))\n",
    "#plt.plot(tauspace, np.ones(len(tauspace)) * np.quantile(sample, .95))\n",
    "#plt.ylim(.3, .5)\n",
    "plt.show()"
   ]
  },
  {
   "cell_type": "code",
   "execution_count": null,
   "id": "9635ee27",
   "metadata": {},
   "outputs": [],
   "source": []
  },
  {
   "cell_type": "code",
   "execution_count": null,
   "id": "34619023",
   "metadata": {},
   "outputs": [],
   "source": []
  },
  {
   "cell_type": "code",
   "execution_count": null,
   "id": "3f113d91",
   "metadata": {},
   "outputs": [],
   "source": []
  },
  {
   "cell_type": "code",
   "execution_count": null,
   "id": "e99a52be",
   "metadata": {},
   "outputs": [],
   "source": []
  }
 ],
 "metadata": {
  "kernelspec": {
   "display_name": "Python 3 (ipykernel)",
   "language": "python",
   "name": "python3"
  },
  "language_info": {
   "codemirror_mode": {
    "name": "ipython",
    "version": 3
   },
   "file_extension": ".py",
   "mimetype": "text/x-python",
   "name": "python",
   "nbconvert_exporter": "python",
   "pygments_lexer": "ipython3",
   "version": "3.11.4"
  }
 },
 "nbformat": 4,
 "nbformat_minor": 5
}
