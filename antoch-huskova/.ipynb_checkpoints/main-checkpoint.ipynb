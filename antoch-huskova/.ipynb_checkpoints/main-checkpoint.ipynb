{
 "cells": [
  {
   "cell_type": "markdown",
   "id": "9bbb76fc",
   "metadata": {},
   "source": [
    "#### Import\n"
   ]
  },
  {
   "cell_type": "code",
   "execution_count": 1,
   "id": "c838c2ee",
   "metadata": {},
   "outputs": [],
   "source": [
    "import pandas as pd\n",
    "import numpy as np\n",
    "import numba as nb\n",
    "import matplotlib.pyplot as plt\n",
    "from scipy.stats import pareto"
   ]
  },
  {
   "cell_type": "markdown",
   "id": "1b10e720",
   "metadata": {},
   "source": [
    "#### Data"
   ]
  },
  {
   "cell_type": "code",
   "execution_count": 2,
   "id": "d05b91fd",
   "metadata": {},
   "outputs": [],
   "source": [
    "df = pd.read_csv('../cow_ssba.csv')\n",
    "x = df['start_dates'].to_numpy().astype('float')\n",
    "z = df['battle_deaths'].to_numpy().astype('float')\n",
    "#x = np.append(x, 2024)\n",
    "#z = np.append(z, 25000_000)\n",
    "\n",
    "y = np.log(z)\n",
    "n = len(x)"
   ]
  },
  {
   "cell_type": "code",
   "execution_count": null,
   "id": "6b5073c9",
   "metadata": {},
   "outputs": [],
   "source": []
  },
  {
   "cell_type": "markdown",
   "id": "3536b764",
   "metadata": {},
   "source": [
    "#### Functions"
   ]
  },
  {
   "cell_type": "code",
   "execution_count": 3,
   "id": "56a2fc0c",
   "metadata": {},
   "outputs": [],
   "source": [
    "@nb.njit(nb.types.Tuple((nb.float64, nb.float64))(nb.float64[:]))\n",
    "def get_xmin_a(mydata):\n",
    "    xmins = np.unique(mydata) # get all unique values of data\n",
    "    dat = np.zeros(len(xmins))\n",
    "    z = np.sort(mydata)\n",
    "    for i in range(len(xmins) - 1):\n",
    "        xmin = xmins[i] # choose next xmin\n",
    "        z1 = z[z >= xmin] # truncate data below this xmin value\n",
    "        n = len(z1)\n",
    "        a = 1 + n * np.sum(np.log(z1 / xmin))**(-1) # estimate alpha using direct MLE\n",
    "        cx = (np.arange(n) + 1)[::-1] / n # construct the empirical CDF\n",
    "        cf = (z1 / xmin)**(-a + 1) # construct the fitted theoretical CDF\n",
    "        dat[i] = np.max(np.abs(cf - cx)) # compute the KS statistic\n",
    "    \n",
    "    D = np.min(dat[(dat > 0) * ~np.isnan(dat)]) # find smallest D value\n",
    "    xmin = np.min(xmins[dat==D]) # find xmin value; use min in case of tie\n",
    "    z = mydata[mydata >= xmin] # truncate data below xmin\n",
    "    z = np.sort(z)\n",
    "    n = len(z) # get tail length (in case we want to know that)\n",
    "    alpha = 1 + n * np.sum(np.log(z / xmin))**(-1) # get corresponding alpha estimate via MLE\n",
    "    return xmin, alpha\n",
    "\n",
    "\n",
    "@nb.njit(nb.float64[:](nb.float64[:], nb.int64, nb.float64, nb.int64))\n",
    "def get_permuted_sample(z, n, tau, sim):\n",
    "    sample = np.zeros(sim)\n",
    "    \n",
    "    for s in range(sim):\n",
    "        indices = np.random.permutation(n)\n",
    "        zL = z[indices[:tau]]\n",
    "        zR = z[indices[tau:]]\n",
    "        \n",
    "        xminL, alphaL = get_xmin_a(zL)\n",
    "        xminR, alphaR = get_xmin_a(zR)\n",
    "        \n",
    "        sample[s] = np.abs(alphaL - alphaR) * (tau * (n - tau))\n",
    "    return sample\n",
    "\n",
    "\n",
    "@nb.njit(nb.float64[:](nb.float64[:], nb.int64, nb.int64, nb.int64))\n",
    "def get_permuted_sample_all(z, n, cutoff, sim):\n",
    "    sample = np.zeros(sim)\n",
    "    \n",
    "    for s in range(sim):\n",
    "        indices = np.random.permutation(n)\n",
    "        taudiff = np.zeros(n - 2 * cutoff)\n",
    "        counter = 0\n",
    "        for tau in range(cutoff, n - cutoff):\n",
    "            zL = z[indices[:tau]]\n",
    "            zR = z[indices[tau:]]\n",
    "        \n",
    "            xminL, alphaL = get_xmin_a(zL)\n",
    "            xminR, alphaR = get_xmin_a(zR)\n",
    "            \n",
    "            taudiff[counter] = np.abs(alphaL - alphaR) * np.sqrt(tau * (n - tau))\n",
    "            \n",
    "            counter += 1\n",
    "        \n",
    "        sample[s] = np.max(taudiff)\n",
    "    return sample"
   ]
  },
  {
   "cell_type": "markdown",
   "id": "b5258371",
   "metadata": {},
   "source": [
    "#### Estimate"
   ]
  },
  {
   "cell_type": "code",
   "execution_count": null,
   "id": "87aaa522",
   "metadata": {},
   "outputs": [],
   "source": [
    "xmin, alpha = get_xmin_a(z)"
   ]
  },
  {
   "cell_type": "markdown",
   "id": "51f7daed",
   "metadata": {},
   "source": [
    "#### Plot"
   ]
  },
  {
   "cell_type": "code",
   "execution_count": null,
   "id": "f6289ef8",
   "metadata": {},
   "outputs": [],
   "source": [
    "logQ = np.log(np.array([np.sum(y >= y[i]) / n for i in range(n)]))\n",
    "\n",
    "mplot = 2\n",
    "ymin = np.log(xmin)\n",
    "y0 = np.log(np.sum(y >= ymin) / n)\n",
    "space = np.linspace(ymin, np.max(y))"
   ]
  },
  {
   "cell_type": "code",
   "execution_count": null,
   "id": "f4e727da",
   "metadata": {},
   "outputs": [],
   "source": [
    "plt.scatter(y, logQ)\n",
    "plt.plot(space, (1 - alpha) * (space - ymin) + y0, color='C1')"
   ]
  },
  {
   "cell_type": "markdown",
   "id": "352361fb",
   "metadata": {},
   "source": [
    "#### WW2"
   ]
  },
  {
   "cell_type": "code",
   "execution_count": null,
   "id": "6316eec2",
   "metadata": {},
   "outputs": [],
   "source": [
    "zL = z[x < 1945]\n",
    "zR = z[x >= 1945]\n",
    "\n",
    "yL = y[x < 1945]\n",
    "yR = y[x >= 1945]\n",
    "\n",
    "nL = len(yL)\n",
    "nR = len(yR)\n",
    "\n",
    "xminL, alphaL = get_xmin_a(zL)\n",
    "xminR, alphaR = get_xmin_a(zR)"
   ]
  },
  {
   "cell_type": "code",
   "execution_count": null,
   "id": "3f4fd35c",
   "metadata": {},
   "outputs": [],
   "source": [
    "logQL = np.log(np.array([np.sum(yL >= yL[i]) / nL for i in range(nL)]))\n",
    "logQR = np.log(np.array([np.sum(yR >= yR[i]) / nR for i in range(nR)]))\n",
    "\n",
    "yminL = np.log(xminL)\n",
    "y0L = np.log(np.sum(yL >= yminL) / nL)\n",
    "spaceL = np.linspace(yminL, np.max(yL))\n",
    "\n",
    "yminR = np.log(xminR)\n",
    "y0R = np.log(np.sum(yR >= yminR) / nR)\n",
    "spaceR = np.linspace(yminR, np.max(yR))"
   ]
  },
  {
   "cell_type": "code",
   "execution_count": null,
   "id": "4863124d",
   "metadata": {},
   "outputs": [],
   "source": [
    "plt.scatter(yL, logQL)\n",
    "plt.scatter(yR, logQR)\n",
    "plt.plot(spaceL, (1 - alphaL) * (spaceL - yminL) + y0L, color='C2')\n",
    "plt.plot(spaceR, (1 - alphaR) * (spaceR - yminR) + y0R, color='C3')\n",
    "plt.show()"
   ]
  },
  {
   "cell_type": "markdown",
   "id": "e26f7c11",
   "metadata": {},
   "source": [
    "#### Permutation test"
   ]
  },
  {
   "cell_type": "code",
   "execution_count": 4,
   "id": "8ab6463d",
   "metadata": {},
   "outputs": [],
   "source": [
    "tauWW2 = np.argmax(x >= 1945)\n",
    "sim = 1000\n",
    "\n",
    "permuted_sampleWW2 = get_permuted_sample(z, n, tauWW2, sim)"
   ]
  },
  {
   "cell_type": "code",
   "execution_count": null,
   "id": "5bc0856b",
   "metadata": {},
   "outputs": [],
   "source": [
    "obs_diffWW2 = alphaL - alphaR\n",
    "obs_diffWW2"
   ]
  },
  {
   "cell_type": "code",
   "execution_count": null,
   "id": "fac6ef1f",
   "metadata": {},
   "outputs": [],
   "source": [
    "plt.hist(permuted_sampleWW2, bins=200, density=True)\n",
    "plt.vlines(obs_diffWW2, 0, 1, color='C1')\n",
    "plt.show()"
   ]
  },
  {
   "cell_type": "code",
   "execution_count": null,
   "id": "84d98628",
   "metadata": {},
   "outputs": [],
   "source": [
    "np.quantile(permuted_sampleWW2, .95)"
   ]
  },
  {
   "cell_type": "markdown",
   "id": "62d41513",
   "metadata": {},
   "source": [
    "#### Across all changepoints"
   ]
  },
  {
   "cell_type": "code",
   "execution_count": null,
   "id": "5d89db3b",
   "metadata": {},
   "outputs": [],
   "source": [
    "sample = get_permuted_sample_all(z, n, cutoff, sim)"
   ]
  },
  {
   "cell_type": "code",
   "execution_count": null,
   "id": "1ecb1688",
   "metadata": {},
   "outputs": [],
   "source": [
    "plt.hist(sample, bins=200, density=True)\n",
    "plt.show()"
   ]
  },
  {
   "cell_type": "code",
   "execution_count": null,
   "id": "634ac70d",
   "metadata": {},
   "outputs": [],
   "source": [
    "np.quantile(sample, .95)"
   ]
  },
  {
   "cell_type": "code",
   "execution_count": null,
   "id": "74c6c812",
   "metadata": {},
   "outputs": [],
   "source": [
    "obsdiffs = np.zeros(n - 2 * cutoff)\n",
    "counter = 0\n",
    "\n",
    "for tau in range(cutoff, n - cutoff):\n",
    "    zL = z[:tau]\n",
    "    zR = z[tau:]\n",
    "    xminL, alphaL = get_xmin_a(zL)\n",
    "    xminR, alphaR = get_xmin_a(zR)\n",
    "    \n",
    "    obsdiffs[counter] = np.sqrt(tau * (n - tau)) * np.abs(alphaL - alphaR)\n",
    "    \n",
    "    counter += 1\n",
    "    "
   ]
  },
  {
   "cell_type": "code",
   "execution_count": null,
   "id": "da9a50a8",
   "metadata": {},
   "outputs": [],
   "source": [
    "np.max(obsdiffs)"
   ]
  },
  {
   "cell_type": "code",
   "execution_count": null,
   "id": "55ccad55",
   "metadata": {},
   "outputs": [],
   "source": [
    "sim = 1000\n",
    "cutoff = 5\n",
    "\n",
    "quantiles = np.zeros(n - 2*cutoff)\n",
    "counter = 0\n",
    "\n",
    "for tau in range(cutoff, n - cutoff):\n",
    "    sample = get_permuted_sample(z, n, tau, sim)\n",
    "    quantiles[counter] = np.quantile(sample, .95)\n",
    "    \n",
    "    \n",
    "    counter += 1"
   ]
  },
  {
   "cell_type": "code",
   "execution_count": null,
   "id": "494069be",
   "metadata": {},
   "outputs": [],
   "source": [
    "tauspace = np.arange(cutoff, n - cutoff)\n",
    "\n",
    "#plt.plot(tauspace, quantiles)\n",
    "plt.plot(tauspace, obsdiffs)\n",
    "#plt.plot(tauspace, 1 / (tauspace * (n - tauspace)))\n",
    "plt.plot(tauspace, np.ones(len(tauspace)) * np.quantile(sample, .95))\n",
    "plt.show()"
   ]
  },
  {
   "cell_type": "code",
   "execution_count": null,
   "id": "a234d3cd",
   "metadata": {},
   "outputs": [],
   "source": []
  },
  {
   "cell_type": "markdown",
   "id": "7a6c4a9c",
   "metadata": {},
   "source": [
    "#### Check power"
   ]
  },
  {
   "cell_type": "code",
   "execution_count": 5,
   "id": "93205871",
   "metadata": {},
   "outputs": [],
   "source": [
    "n = 150\n",
    "cutoff = 5\n",
    "n1 = n // 2\n",
    "n2 = n - n1\n",
    "\n",
    "z1 = pareto(b=2.2).rvs(n1)\n",
    "z2 = pareto(b=1.8).rvs(n2)\n",
    "\n",
    "z = np.concatenate((z1, z2))"
   ]
  },
  {
   "cell_type": "code",
   "execution_count": 6,
   "id": "006461ca",
   "metadata": {},
   "outputs": [],
   "source": [
    "sample = get_permuted_sample_all(z, n, cutoff, sim)"
   ]
  },
  {
   "cell_type": "code",
   "execution_count": 7,
   "id": "fe14a524",
   "metadata": {},
   "outputs": [
    {
     "data": {
      "text/plain": [
       "831.7433587146402"
      ]
     },
     "execution_count": 7,
     "metadata": {},
     "output_type": "execute_result"
    }
   ],
   "source": [
    "np.quantile(sample, .95)"
   ]
  },
  {
   "cell_type": "code",
   "execution_count": 8,
   "id": "d1aa7b70",
   "metadata": {},
   "outputs": [],
   "source": [
    "obsdiffs = np.zeros(n - 2 * cutoff)\n",
    "counter = 0\n",
    "\n",
    "for tau in range(cutoff, n - cutoff):\n",
    "    zL = z[:tau]\n",
    "    zR = z[tau:]\n",
    "    xminL, alphaL = get_xmin_a(zL)\n",
    "    xminR, alphaR = get_xmin_a(zR)\n",
    "    \n",
    "    obsdiffs[counter] = np.sqrt(tau * (n - tau)) * np.abs(alphaL - alphaR)\n",
    "    \n",
    "    counter += 1"
   ]
  },
  {
   "cell_type": "code",
   "execution_count": 9,
   "id": "559e839f",
   "metadata": {},
   "outputs": [],
   "source": [
    "tauspace = np.arange(cutoff, n - cutoff)"
   ]
  },
  {
   "cell_type": "code",
   "execution_count": 10,
   "id": "6c1fa7d7",
   "metadata": {},
   "outputs": [
    {
     "data": {
      "text/plain": [
       "[<matplotlib.lines.Line2D at 0x23a53e271c0>]"
      ]
     },
     "execution_count": 10,
     "metadata": {},
     "output_type": "execute_result"
    },
    {
     "data": {
      "image/png": "[encoded data removed]",
      "text/plain": [
       "<Figure size 432x288 with 1 Axes>"
      ]
     },
     "metadata": {
      "needs_background": "light"
     },
     "output_type": "display_data"
    }
   ],
   "source": [
    "plt.plot(tauspace, obsdiffs)"
   ]
  },
  {
   "cell_type": "code",
   "execution_count": null,
   "id": "ca1b0cd2",
   "metadata": {},
   "outputs": [],
   "source": []
  }
 ],
 "metadata": {
  "kernelspec": {
   "display_name": "Python 3 (ipykernel)",
   "language": "python",
   "name": "python3"
  },
  "language_info": {
   "codemirror_mode": {
    "name": "ipython",
    "version": 3
   },
   "file_extension": ".py",
   "mimetype": "text/x-python",
   "name": "python",
   "nbconvert_exporter": "python",
   "pygments_lexer": "ipython3",
   "version": "3.10.2"
  }
 },
 "nbformat": 4,
 "nbformat_minor": 5
}
