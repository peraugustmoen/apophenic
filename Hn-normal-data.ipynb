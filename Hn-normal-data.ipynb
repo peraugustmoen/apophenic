{
 "cells": [
  {
   "cell_type": "markdown",
   "id": "1178ecea",
   "metadata": {},
   "source": [
    "#### Import"
   ]
  },
  {
   "cell_type": "code",
   "execution_count": 60,
   "id": "86dbc7fc",
   "metadata": {},
   "outputs": [],
   "source": [
    "import numpy as np\n",
    "import pandas as pd\n",
    "from scipy.stats import mielke, norm, gamma\n",
    "import matplotlib.pyplot as plt\n",
    "import pandas as pd\n",
    "from scipy.stats import gaussian_kde\n",
    "from rpy2 import robjects\n",
    "from rpy2.robjects.packages import importr\n",
    "from rpy2.robjects import vectors\n",
    "stats = importr('stats')"
   ]
  },
  {
   "cell_type": "markdown",
   "id": "e1d08e97",
   "metadata": {},
   "source": [
    "#### Functions"
   ]
  },
  {
   "cell_type": "code",
   "execution_count": 61,
   "id": "913577f7",
   "metadata": {},
   "outputs": [],
   "source": [
    "def R_density(data):\n",
    "    def f(arg):\n",
    "        column = vectors.FloatVector(list(data))\n",
    "        output = stats.density(column, n=2000)\n",
    "        xx = np.array(output[0])\n",
    "        yy = np.array(output[1])\n",
    "        \n",
    "        index = np.argmin(np.abs(xx - arg))\n",
    "        return yy[index]\n",
    "    return f\n",
    "\n",
    "\n",
    "def silverman_bandwidth(data):\n",
    "    if len(data) < 2:\n",
    "        raise ValueError(\"Need at least 2 data points\")\n",
    "    \n",
    "    std = np.std(data)\n",
    "    IQR = np.quantile(data, .75) - np.quantile(data, .25)\n",
    "    A = min(std, IQR / 1.34)\n",
    "    return 0.9 * A * len(data)**(-0.2) / std\n",
    "    \n",
    "        \n",
    "def H(tau, y, q):\n",
    "    yL = y[:tau]\n",
    "    yR = y[tau:]\n",
    "    \n",
    "    muL = float(np.quantile(yL, q))\n",
    "    muR = float(np.quantile(yR, q))\n",
    "    \n",
    "    fL = R_density(yL)(muL)\n",
    "    fR = R_density(yR)(muR)\n",
    "    \n",
    "    kappaLsq = q * (1 - q) / fL**2\n",
    "    kappaRsq = q * (1 - q) / fR**2\n",
    "    \n",
    "    return (muL - muR) / (kappaLsq / tau + kappaRsq / (n - tau)) ** (1 / 2)"
   ]
  },
  {
   "cell_type": "markdown",
   "id": "4f781282",
   "metadata": {},
   "source": [
    "#### Data"
   ]
  },
  {
   "cell_type": "code",
   "execution_count": 62,
   "id": "2bfa3b53",
   "metadata": {},
   "outputs": [],
   "source": [
    "n = 95\n",
    "y = np.random.randn(n)"
   ]
  },
  {
   "cell_type": "markdown",
   "id": "81355d4f",
   "metadata": {},
   "source": [
    "#### Recreate Figure 2"
   ]
  },
  {
   "cell_type": "code",
   "execution_count": 63,
   "id": "990fa55b",
   "metadata": {},
   "outputs": [],
   "source": [
    "taus = np.arange(n)\n",
    "Hs50 = np.zeros(n)\n",
    "Hs75 = np.zeros(n)\n",
    "\n",
    "for i in range(4, n - 4):\n",
    "    tau = taus[i]\n",
    "    Hs50[i] = H(tau, y, .5)\n",
    "    Hs75[i] = H(tau, y, .75)"
   ]
  },
  {
   "cell_type": "code",
   "execution_count": 64,
   "id": "4b7645c8",
   "metadata": {},
   "outputs": [],
   "source": [
    "plt.plot(x[5:-4], Hs50[5:-4])\n",
    "plt.plot(x[5:-4], Hs75[5:-4])\n",
    "plt.show()"
   ]
  },
  {
   "cell_type": "code",
   "execution_count": null,
   "id": "7097c9bf",
   "metadata": {},
   "outputs": [],
   "source": []
  },
  {
   "cell_type": "code",
   "execution_count": null,
   "id": "3da3f27a",
   "metadata": {},
   "outputs": [],
   "source": []
  },
  {
   "cell_type": "code",
   "execution_count": null,
   "id": "29a6c749",
   "metadata": {},
   "outputs": [],
   "source": []
  },
  {
   "cell_type": "code",
   "execution_count": null,
   "id": "99df82b4",
   "metadata": {},
   "outputs": [],
   "source": []
  },
  {
   "cell_type": "code",
   "execution_count": null,
   "id": "b5d7f3aa",
   "metadata": {},
   "outputs": [],
   "source": []
  },
  {
   "cell_type": "code",
   "execution_count": null,
   "id": "ce9e7a5b",
   "metadata": {},
   "outputs": [],
   "source": []
  },
  {
   "cell_type": "code",
   "execution_count": null,
   "id": "704727fb",
   "metadata": {},
   "outputs": [],
   "source": []
  },
  {
   "cell_type": "code",
   "execution_count": null,
   "id": "a0e74786",
   "metadata": {},
   "outputs": [],
   "source": []
  },
  {
   "cell_type": "code",
   "execution_count": null,
   "id": "ea290f2f",
   "metadata": {},
   "outputs": [],
   "source": []
  },
  {
   "cell_type": "code",
   "execution_count": null,
   "id": "70739a75",
   "metadata": {},
   "outputs": [],
   "source": []
  },
  {
   "cell_type": "markdown",
   "id": "e135e8d9",
   "metadata": {},
   "source": [
    "#### Sandbox"
   ]
  },
  {
   "cell_type": "code",
   "execution_count": 32,
   "id": "52694138",
   "metadata": {},
   "outputs": [],
   "source": [
    "n = 10\n",
    "data = np.random.beta(a=3.5, b=.8, size=n)"
   ]
  },
  {
   "cell_type": "code",
   "execution_count": 33,
   "id": "44cef3f1",
   "metadata": {},
   "outputs": [],
   "source": [
    "def silverman_bandwidth(data):\n",
    "    if len(data) < 2:\n",
    "        raise ValueError(\"Need at least 2 data points\")\n",
    "    \n",
    "    std = np.std(data)\n",
    "    IQR = np.quantile(data, .75) - np.quantile(data, .25)\n",
    "    A = min(std, IQR / 1.34)\n",
    "    return 0.9 * A * len(data)**(-0.2) / std"
   ]
  },
  {
   "cell_type": "code",
   "execution_count": 34,
   "id": "14af4f46",
   "metadata": {},
   "outputs": [],
   "source": [
    "stats = importr('stats')\n",
    "column = vectors.FloatVector(list(data))\n",
    "output = stats.density(column)\n",
    "xx = np.array(output[0])\n",
    "yy = np.array(output[1])"
   ]
  },
  {
   "cell_type": "code",
   "execution_count": 35,
   "id": "f189f236",
   "metadata": {},
   "outputs": [],
   "source": [
    "bw = silverman_bandwidth(data)\n",
    "kde = gaussian_kde(data, bw_method=bw)"
   ]
  },
  {
   "cell_type": "code",
   "execution_count": 36,
   "id": "712b5bac",
   "metadata": {},
   "outputs": [],
   "source": [
    "plt.plot(xx, yy)\n",
    "plt.plot(xx, kde(xx))\n",
    "plt.show()"
   ]
  },
  {
   "cell_type": "code",
   "execution_count": null,
   "id": "0c972cd8",
   "metadata": {},
   "outputs": [],
   "source": []
  },
  {
   "cell_type": "code",
   "execution_count": null,
   "id": "6b9d7af1",
   "metadata": {},
   "outputs": [],
   "source": []
  },
  {
   "cell_type": "code",
   "execution_count": null,
   "id": "2a061452",
   "metadata": {},
   "outputs": [],
   "source": []
  },
  {
   "cell_type": "code",
   "execution_count": null,
   "id": "e5d7fea9",
   "metadata": {},
   "outputs": [],
   "source": []
  },
  {
   "cell_type": "code",
   "execution_count": null,
   "id": "aaad5644",
   "metadata": {},
   "outputs": [],
   "source": [
    "plt.plot(xRR, yRR)\n",
    "plt.plot(np.linspace(0, 1.5, 200), gaussian_kde(data)(np.linspace(0, 1.5, 200)))\n",
    "plt.show()"
   ]
  },
  {
   "cell_type": "code",
   "execution_count": null,
   "id": "3b3581f9",
   "metadata": {},
   "outputs": [],
   "source": [
    "gaussian_kde(data)(.5)"
   ]
  },
  {
   "cell_type": "code",
   "execution_count": null,
   "id": "fbe934e3",
   "metadata": {},
   "outputs": [],
   "source": []
  },
  {
   "cell_type": "code",
   "execution_count": null,
   "id": "7a04660b",
   "metadata": {},
   "outputs": [],
   "source": []
  },
  {
   "cell_type": "code",
   "execution_count": null,
   "id": "b45d4a06",
   "metadata": {},
   "outputs": [],
   "source": []
  },
  {
   "cell_type": "code",
   "execution_count": null,
   "id": "e6348698",
   "metadata": {},
   "outputs": [],
   "source": []
  }
 ],
 "metadata": {
  "kernelspec": {
   "display_name": "Python 3 (ipykernel)",
   "language": "python",
   "name": "python3"
  },
  "language_info": {
   "codemirror_mode": {
    "name": "ipython",
    "version": 3
   },
   "file_extension": ".py",
   "mimetype": "text/x-python",
   "name": "python",
   "nbconvert_exporter": "python",
   "pygments_lexer": "ipython3",
   "version": "3.10.4"
  }
 },
 "nbformat": 4,
 "nbformat_minor": 5
}
